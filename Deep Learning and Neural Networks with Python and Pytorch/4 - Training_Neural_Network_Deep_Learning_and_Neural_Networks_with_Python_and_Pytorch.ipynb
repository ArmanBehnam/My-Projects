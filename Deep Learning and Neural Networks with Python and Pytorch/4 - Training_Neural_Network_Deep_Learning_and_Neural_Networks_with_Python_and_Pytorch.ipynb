{
  "nbformat": 4,
  "nbformat_minor": 0,
  "metadata": {
    "colab": {
      "name": "Training Neural Network - Deep Learning and Neural Networks with Python and Pytorch p.4.ipynb",
      "provenance": [],
      "collapsed_sections": []
    },
    "kernelspec": {
      "name": "python3",
      "display_name": "Python 3"
    },
    "language_info": {
      "name": "python"
    },
    "widgets": {
      "application/vnd.jupyter.widget-state+json": {
        "6444bb5081e14c578138b622c7aeae0c": {
          "model_module": "@jupyter-widgets/controls",
          "model_name": "HBoxModel",
          "model_module_version": "1.5.0",
          "state": {
            "_view_name": "HBoxView",
            "_dom_classes": [],
            "_model_name": "HBoxModel",
            "_view_module": "@jupyter-widgets/controls",
            "_model_module_version": "1.5.0",
            "_view_count": null,
            "_view_module_version": "1.5.0",
            "box_style": "",
            "layout": "IPY_MODEL_c72bbc2e733348c288914f8593881a22",
            "_model_module": "@jupyter-widgets/controls",
            "children": [
              "IPY_MODEL_09417ea17ef24117916a07ce3bb4509c",
              "IPY_MODEL_b818cc1c3a2d4335a2ce7c32199036c7",
              "IPY_MODEL_5c071210b3e54cfc948f5b2ec9271332"
            ]
          }
        },
        "c72bbc2e733348c288914f8593881a22": {
          "model_module": "@jupyter-widgets/base",
          "model_name": "LayoutModel",
          "model_module_version": "1.2.0",
          "state": {
            "_view_name": "LayoutView",
            "grid_template_rows": null,
            "right": null,
            "justify_content": null,
            "_view_module": "@jupyter-widgets/base",
            "overflow": null,
            "_model_module_version": "1.2.0",
            "_view_count": null,
            "flex_flow": null,
            "width": null,
            "min_width": null,
            "border": null,
            "align_items": null,
            "bottom": null,
            "_model_module": "@jupyter-widgets/base",
            "top": null,
            "grid_column": null,
            "overflow_y": null,
            "overflow_x": null,
            "grid_auto_flow": null,
            "grid_area": null,
            "grid_template_columns": null,
            "flex": null,
            "_model_name": "LayoutModel",
            "justify_items": null,
            "grid_row": null,
            "max_height": null,
            "align_content": null,
            "visibility": null,
            "align_self": null,
            "height": null,
            "min_height": null,
            "padding": null,
            "grid_auto_rows": null,
            "grid_gap": null,
            "max_width": null,
            "order": null,
            "_view_module_version": "1.2.0",
            "grid_template_areas": null,
            "object_position": null,
            "object_fit": null,
            "grid_auto_columns": null,
            "margin": null,
            "display": null,
            "left": null
          }
        },
        "09417ea17ef24117916a07ce3bb4509c": {
          "model_module": "@jupyter-widgets/controls",
          "model_name": "HTMLModel",
          "model_module_version": "1.5.0",
          "state": {
            "_view_name": "HTMLView",
            "style": "IPY_MODEL_a9a761607b754f5792eb43ccd72c7fcc",
            "_dom_classes": [],
            "description": "",
            "_model_name": "HTMLModel",
            "placeholder": "​",
            "_view_module": "@jupyter-widgets/controls",
            "_model_module_version": "1.5.0",
            "value": "",
            "_view_count": null,
            "_view_module_version": "1.5.0",
            "description_tooltip": null,
            "_model_module": "@jupyter-widgets/controls",
            "layout": "IPY_MODEL_435196d298c94a81bee1d0369f74da04"
          }
        },
        "b818cc1c3a2d4335a2ce7c32199036c7": {
          "model_module": "@jupyter-widgets/controls",
          "model_name": "FloatProgressModel",
          "model_module_version": "1.5.0",
          "state": {
            "_view_name": "ProgressView",
            "style": "IPY_MODEL_89ab57588fd94713aa8730627a9b3425",
            "_dom_classes": [],
            "description": "",
            "_model_name": "FloatProgressModel",
            "bar_style": "success",
            "max": 9912422,
            "_view_module": "@jupyter-widgets/controls",
            "_model_module_version": "1.5.0",
            "value": 9912422,
            "_view_count": null,
            "_view_module_version": "1.5.0",
            "orientation": "horizontal",
            "min": 0,
            "description_tooltip": null,
            "_model_module": "@jupyter-widgets/controls",
            "layout": "IPY_MODEL_33e122eb940541b6a1480a9bfecac1ef"
          }
        },
        "5c071210b3e54cfc948f5b2ec9271332": {
          "model_module": "@jupyter-widgets/controls",
          "model_name": "HTMLModel",
          "model_module_version": "1.5.0",
          "state": {
            "_view_name": "HTMLView",
            "style": "IPY_MODEL_60961890d0484c7ab384daf1f61b2e23",
            "_dom_classes": [],
            "description": "",
            "_model_name": "HTMLModel",
            "placeholder": "​",
            "_view_module": "@jupyter-widgets/controls",
            "_model_module_version": "1.5.0",
            "value": " 9913344/? [00:00&lt;00:00, 33775476.58it/s]",
            "_view_count": null,
            "_view_module_version": "1.5.0",
            "description_tooltip": null,
            "_model_module": "@jupyter-widgets/controls",
            "layout": "IPY_MODEL_0271cf60db404803b37eb140e7170a1f"
          }
        },
        "a9a761607b754f5792eb43ccd72c7fcc": {
          "model_module": "@jupyter-widgets/controls",
          "model_name": "DescriptionStyleModel",
          "model_module_version": "1.5.0",
          "state": {
            "_view_name": "StyleView",
            "_model_name": "DescriptionStyleModel",
            "description_width": "",
            "_view_module": "@jupyter-widgets/base",
            "_model_module_version": "1.5.0",
            "_view_count": null,
            "_view_module_version": "1.2.0",
            "_model_module": "@jupyter-widgets/controls"
          }
        },
        "435196d298c94a81bee1d0369f74da04": {
          "model_module": "@jupyter-widgets/base",
          "model_name": "LayoutModel",
          "model_module_version": "1.2.0",
          "state": {
            "_view_name": "LayoutView",
            "grid_template_rows": null,
            "right": null,
            "justify_content": null,
            "_view_module": "@jupyter-widgets/base",
            "overflow": null,
            "_model_module_version": "1.2.0",
            "_view_count": null,
            "flex_flow": null,
            "width": null,
            "min_width": null,
            "border": null,
            "align_items": null,
            "bottom": null,
            "_model_module": "@jupyter-widgets/base",
            "top": null,
            "grid_column": null,
            "overflow_y": null,
            "overflow_x": null,
            "grid_auto_flow": null,
            "grid_area": null,
            "grid_template_columns": null,
            "flex": null,
            "_model_name": "LayoutModel",
            "justify_items": null,
            "grid_row": null,
            "max_height": null,
            "align_content": null,
            "visibility": null,
            "align_self": null,
            "height": null,
            "min_height": null,
            "padding": null,
            "grid_auto_rows": null,
            "grid_gap": null,
            "max_width": null,
            "order": null,
            "_view_module_version": "1.2.0",
            "grid_template_areas": null,
            "object_position": null,
            "object_fit": null,
            "grid_auto_columns": null,
            "margin": null,
            "display": null,
            "left": null
          }
        },
        "89ab57588fd94713aa8730627a9b3425": {
          "model_module": "@jupyter-widgets/controls",
          "model_name": "ProgressStyleModel",
          "model_module_version": "1.5.0",
          "state": {
            "_view_name": "StyleView",
            "_model_name": "ProgressStyleModel",
            "description_width": "",
            "_view_module": "@jupyter-widgets/base",
            "_model_module_version": "1.5.0",
            "_view_count": null,
            "_view_module_version": "1.2.0",
            "bar_color": null,
            "_model_module": "@jupyter-widgets/controls"
          }
        },
        "33e122eb940541b6a1480a9bfecac1ef": {
          "model_module": "@jupyter-widgets/base",
          "model_name": "LayoutModel",
          "model_module_version": "1.2.0",
          "state": {
            "_view_name": "LayoutView",
            "grid_template_rows": null,
            "right": null,
            "justify_content": null,
            "_view_module": "@jupyter-widgets/base",
            "overflow": null,
            "_model_module_version": "1.2.0",
            "_view_count": null,
            "flex_flow": null,
            "width": null,
            "min_width": null,
            "border": null,
            "align_items": null,
            "bottom": null,
            "_model_module": "@jupyter-widgets/base",
            "top": null,
            "grid_column": null,
            "overflow_y": null,
            "overflow_x": null,
            "grid_auto_flow": null,
            "grid_area": null,
            "grid_template_columns": null,
            "flex": null,
            "_model_name": "LayoutModel",
            "justify_items": null,
            "grid_row": null,
            "max_height": null,
            "align_content": null,
            "visibility": null,
            "align_self": null,
            "height": null,
            "min_height": null,
            "padding": null,
            "grid_auto_rows": null,
            "grid_gap": null,
            "max_width": null,
            "order": null,
            "_view_module_version": "1.2.0",
            "grid_template_areas": null,
            "object_position": null,
            "object_fit": null,
            "grid_auto_columns": null,
            "margin": null,
            "display": null,
            "left": null
          }
        },
        "60961890d0484c7ab384daf1f61b2e23": {
          "model_module": "@jupyter-widgets/controls",
          "model_name": "DescriptionStyleModel",
          "model_module_version": "1.5.0",
          "state": {
            "_view_name": "StyleView",
            "_model_name": "DescriptionStyleModel",
            "description_width": "",
            "_view_module": "@jupyter-widgets/base",
            "_model_module_version": "1.5.0",
            "_view_count": null,
            "_view_module_version": "1.2.0",
            "_model_module": "@jupyter-widgets/controls"
          }
        },
        "0271cf60db404803b37eb140e7170a1f": {
          "model_module": "@jupyter-widgets/base",
          "model_name": "LayoutModel",
          "model_module_version": "1.2.0",
          "state": {
            "_view_name": "LayoutView",
            "grid_template_rows": null,
            "right": null,
            "justify_content": null,
            "_view_module": "@jupyter-widgets/base",
            "overflow": null,
            "_model_module_version": "1.2.0",
            "_view_count": null,
            "flex_flow": null,
            "width": null,
            "min_width": null,
            "border": null,
            "align_items": null,
            "bottom": null,
            "_model_module": "@jupyter-widgets/base",
            "top": null,
            "grid_column": null,
            "overflow_y": null,
            "overflow_x": null,
            "grid_auto_flow": null,
            "grid_area": null,
            "grid_template_columns": null,
            "flex": null,
            "_model_name": "LayoutModel",
            "justify_items": null,
            "grid_row": null,
            "max_height": null,
            "align_content": null,
            "visibility": null,
            "align_self": null,
            "height": null,
            "min_height": null,
            "padding": null,
            "grid_auto_rows": null,
            "grid_gap": null,
            "max_width": null,
            "order": null,
            "_view_module_version": "1.2.0",
            "grid_template_areas": null,
            "object_position": null,
            "object_fit": null,
            "grid_auto_columns": null,
            "margin": null,
            "display": null,
            "left": null
          }
        },
        "35f09efa23b14c6ba5503d1b0af7a9f3": {
          "model_module": "@jupyter-widgets/controls",
          "model_name": "HBoxModel",
          "model_module_version": "1.5.0",
          "state": {
            "_view_name": "HBoxView",
            "_dom_classes": [],
            "_model_name": "HBoxModel",
            "_view_module": "@jupyter-widgets/controls",
            "_model_module_version": "1.5.0",
            "_view_count": null,
            "_view_module_version": "1.5.0",
            "box_style": "",
            "layout": "IPY_MODEL_4f1597fc669f46eaa283082cba9b18b9",
            "_model_module": "@jupyter-widgets/controls",
            "children": [
              "IPY_MODEL_38a8514885664a0fa4e664805dfc881a",
              "IPY_MODEL_b1d1ad8cd2ef49c3a29b46422943498c",
              "IPY_MODEL_2668410b76b74a89b8cbe78f8a6ccb4e"
            ]
          }
        },
        "4f1597fc669f46eaa283082cba9b18b9": {
          "model_module": "@jupyter-widgets/base",
          "model_name": "LayoutModel",
          "model_module_version": "1.2.0",
          "state": {
            "_view_name": "LayoutView",
            "grid_template_rows": null,
            "right": null,
            "justify_content": null,
            "_view_module": "@jupyter-widgets/base",
            "overflow": null,
            "_model_module_version": "1.2.0",
            "_view_count": null,
            "flex_flow": null,
            "width": null,
            "min_width": null,
            "border": null,
            "align_items": null,
            "bottom": null,
            "_model_module": "@jupyter-widgets/base",
            "top": null,
            "grid_column": null,
            "overflow_y": null,
            "overflow_x": null,
            "grid_auto_flow": null,
            "grid_area": null,
            "grid_template_columns": null,
            "flex": null,
            "_model_name": "LayoutModel",
            "justify_items": null,
            "grid_row": null,
            "max_height": null,
            "align_content": null,
            "visibility": null,
            "align_self": null,
            "height": null,
            "min_height": null,
            "padding": null,
            "grid_auto_rows": null,
            "grid_gap": null,
            "max_width": null,
            "order": null,
            "_view_module_version": "1.2.0",
            "grid_template_areas": null,
            "object_position": null,
            "object_fit": null,
            "grid_auto_columns": null,
            "margin": null,
            "display": null,
            "left": null
          }
        },
        "38a8514885664a0fa4e664805dfc881a": {
          "model_module": "@jupyter-widgets/controls",
          "model_name": "HTMLModel",
          "model_module_version": "1.5.0",
          "state": {
            "_view_name": "HTMLView",
            "style": "IPY_MODEL_b67a38b1f629409ca1321905ad11ec3b",
            "_dom_classes": [],
            "description": "",
            "_model_name": "HTMLModel",
            "placeholder": "​",
            "_view_module": "@jupyter-widgets/controls",
            "_model_module_version": "1.5.0",
            "value": "",
            "_view_count": null,
            "_view_module_version": "1.5.0",
            "description_tooltip": null,
            "_model_module": "@jupyter-widgets/controls",
            "layout": "IPY_MODEL_0146215abba842c6aebb15959f25e9e7"
          }
        },
        "b1d1ad8cd2ef49c3a29b46422943498c": {
          "model_module": "@jupyter-widgets/controls",
          "model_name": "FloatProgressModel",
          "model_module_version": "1.5.0",
          "state": {
            "_view_name": "ProgressView",
            "style": "IPY_MODEL_b8650cc00dc846a4bbea1f8a0e5455ab",
            "_dom_classes": [],
            "description": "",
            "_model_name": "FloatProgressModel",
            "bar_style": "success",
            "max": 28881,
            "_view_module": "@jupyter-widgets/controls",
            "_model_module_version": "1.5.0",
            "value": 28881,
            "_view_count": null,
            "_view_module_version": "1.5.0",
            "orientation": "horizontal",
            "min": 0,
            "description_tooltip": null,
            "_model_module": "@jupyter-widgets/controls",
            "layout": "IPY_MODEL_99a4c01f6ddb4c03aaa7bb42dfee586d"
          }
        },
        "2668410b76b74a89b8cbe78f8a6ccb4e": {
          "model_module": "@jupyter-widgets/controls",
          "model_name": "HTMLModel",
          "model_module_version": "1.5.0",
          "state": {
            "_view_name": "HTMLView",
            "style": "IPY_MODEL_40e37aae2f7942059fc8218c25e3003e",
            "_dom_classes": [],
            "description": "",
            "_model_name": "HTMLModel",
            "placeholder": "​",
            "_view_module": "@jupyter-widgets/controls",
            "_model_module_version": "1.5.0",
            "value": " 29696/? [00:00&lt;00:00, 600688.93it/s]",
            "_view_count": null,
            "_view_module_version": "1.5.0",
            "description_tooltip": null,
            "_model_module": "@jupyter-widgets/controls",
            "layout": "IPY_MODEL_b7fbaa1bf6684f26a06a9e15ff5fba5d"
          }
        },
        "b67a38b1f629409ca1321905ad11ec3b": {
          "model_module": "@jupyter-widgets/controls",
          "model_name": "DescriptionStyleModel",
          "model_module_version": "1.5.0",
          "state": {
            "_view_name": "StyleView",
            "_model_name": "DescriptionStyleModel",
            "description_width": "",
            "_view_module": "@jupyter-widgets/base",
            "_model_module_version": "1.5.0",
            "_view_count": null,
            "_view_module_version": "1.2.0",
            "_model_module": "@jupyter-widgets/controls"
          }
        },
        "0146215abba842c6aebb15959f25e9e7": {
          "model_module": "@jupyter-widgets/base",
          "model_name": "LayoutModel",
          "model_module_version": "1.2.0",
          "state": {
            "_view_name": "LayoutView",
            "grid_template_rows": null,
            "right": null,
            "justify_content": null,
            "_view_module": "@jupyter-widgets/base",
            "overflow": null,
            "_model_module_version": "1.2.0",
            "_view_count": null,
            "flex_flow": null,
            "width": null,
            "min_width": null,
            "border": null,
            "align_items": null,
            "bottom": null,
            "_model_module": "@jupyter-widgets/base",
            "top": null,
            "grid_column": null,
            "overflow_y": null,
            "overflow_x": null,
            "grid_auto_flow": null,
            "grid_area": null,
            "grid_template_columns": null,
            "flex": null,
            "_model_name": "LayoutModel",
            "justify_items": null,
            "grid_row": null,
            "max_height": null,
            "align_content": null,
            "visibility": null,
            "align_self": null,
            "height": null,
            "min_height": null,
            "padding": null,
            "grid_auto_rows": null,
            "grid_gap": null,
            "max_width": null,
            "order": null,
            "_view_module_version": "1.2.0",
            "grid_template_areas": null,
            "object_position": null,
            "object_fit": null,
            "grid_auto_columns": null,
            "margin": null,
            "display": null,
            "left": null
          }
        },
        "b8650cc00dc846a4bbea1f8a0e5455ab": {
          "model_module": "@jupyter-widgets/controls",
          "model_name": "ProgressStyleModel",
          "model_module_version": "1.5.0",
          "state": {
            "_view_name": "StyleView",
            "_model_name": "ProgressStyleModel",
            "description_width": "",
            "_view_module": "@jupyter-widgets/base",
            "_model_module_version": "1.5.0",
            "_view_count": null,
            "_view_module_version": "1.2.0",
            "bar_color": null,
            "_model_module": "@jupyter-widgets/controls"
          }
        },
        "99a4c01f6ddb4c03aaa7bb42dfee586d": {
          "model_module": "@jupyter-widgets/base",
          "model_name": "LayoutModel",
          "model_module_version": "1.2.0",
          "state": {
            "_view_name": "LayoutView",
            "grid_template_rows": null,
            "right": null,
            "justify_content": null,
            "_view_module": "@jupyter-widgets/base",
            "overflow": null,
            "_model_module_version": "1.2.0",
            "_view_count": null,
            "flex_flow": null,
            "width": null,
            "min_width": null,
            "border": null,
            "align_items": null,
            "bottom": null,
            "_model_module": "@jupyter-widgets/base",
            "top": null,
            "grid_column": null,
            "overflow_y": null,
            "overflow_x": null,
            "grid_auto_flow": null,
            "grid_area": null,
            "grid_template_columns": null,
            "flex": null,
            "_model_name": "LayoutModel",
            "justify_items": null,
            "grid_row": null,
            "max_height": null,
            "align_content": null,
            "visibility": null,
            "align_self": null,
            "height": null,
            "min_height": null,
            "padding": null,
            "grid_auto_rows": null,
            "grid_gap": null,
            "max_width": null,
            "order": null,
            "_view_module_version": "1.2.0",
            "grid_template_areas": null,
            "object_position": null,
            "object_fit": null,
            "grid_auto_columns": null,
            "margin": null,
            "display": null,
            "left": null
          }
        },
        "40e37aae2f7942059fc8218c25e3003e": {
          "model_module": "@jupyter-widgets/controls",
          "model_name": "DescriptionStyleModel",
          "model_module_version": "1.5.0",
          "state": {
            "_view_name": "StyleView",
            "_model_name": "DescriptionStyleModel",
            "description_width": "",
            "_view_module": "@jupyter-widgets/base",
            "_model_module_version": "1.5.0",
            "_view_count": null,
            "_view_module_version": "1.2.0",
            "_model_module": "@jupyter-widgets/controls"
          }
        },
        "b7fbaa1bf6684f26a06a9e15ff5fba5d": {
          "model_module": "@jupyter-widgets/base",
          "model_name": "LayoutModel",
          "model_module_version": "1.2.0",
          "state": {
            "_view_name": "LayoutView",
            "grid_template_rows": null,
            "right": null,
            "justify_content": null,
            "_view_module": "@jupyter-widgets/base",
            "overflow": null,
            "_model_module_version": "1.2.0",
            "_view_count": null,
            "flex_flow": null,
            "width": null,
            "min_width": null,
            "border": null,
            "align_items": null,
            "bottom": null,
            "_model_module": "@jupyter-widgets/base",
            "top": null,
            "grid_column": null,
            "overflow_y": null,
            "overflow_x": null,
            "grid_auto_flow": null,
            "grid_area": null,
            "grid_template_columns": null,
            "flex": null,
            "_model_name": "LayoutModel",
            "justify_items": null,
            "grid_row": null,
            "max_height": null,
            "align_content": null,
            "visibility": null,
            "align_self": null,
            "height": null,
            "min_height": null,
            "padding": null,
            "grid_auto_rows": null,
            "grid_gap": null,
            "max_width": null,
            "order": null,
            "_view_module_version": "1.2.0",
            "grid_template_areas": null,
            "object_position": null,
            "object_fit": null,
            "grid_auto_columns": null,
            "margin": null,
            "display": null,
            "left": null
          }
        },
        "7e1788d9eb714f1eab30ad854908e336": {
          "model_module": "@jupyter-widgets/controls",
          "model_name": "HBoxModel",
          "model_module_version": "1.5.0",
          "state": {
            "_view_name": "HBoxView",
            "_dom_classes": [],
            "_model_name": "HBoxModel",
            "_view_module": "@jupyter-widgets/controls",
            "_model_module_version": "1.5.0",
            "_view_count": null,
            "_view_module_version": "1.5.0",
            "box_style": "",
            "layout": "IPY_MODEL_6aeb57b833324abbab057579041d3870",
            "_model_module": "@jupyter-widgets/controls",
            "children": [
              "IPY_MODEL_804c4cca15664bc694b2829dffea0b85",
              "IPY_MODEL_827838730b214beebd3eeff1acd510ae",
              "IPY_MODEL_a5320a43cdb949e785e1174774a1a7d6"
            ]
          }
        },
        "6aeb57b833324abbab057579041d3870": {
          "model_module": "@jupyter-widgets/base",
          "model_name": "LayoutModel",
          "model_module_version": "1.2.0",
          "state": {
            "_view_name": "LayoutView",
            "grid_template_rows": null,
            "right": null,
            "justify_content": null,
            "_view_module": "@jupyter-widgets/base",
            "overflow": null,
            "_model_module_version": "1.2.0",
            "_view_count": null,
            "flex_flow": null,
            "width": null,
            "min_width": null,
            "border": null,
            "align_items": null,
            "bottom": null,
            "_model_module": "@jupyter-widgets/base",
            "top": null,
            "grid_column": null,
            "overflow_y": null,
            "overflow_x": null,
            "grid_auto_flow": null,
            "grid_area": null,
            "grid_template_columns": null,
            "flex": null,
            "_model_name": "LayoutModel",
            "justify_items": null,
            "grid_row": null,
            "max_height": null,
            "align_content": null,
            "visibility": null,
            "align_self": null,
            "height": null,
            "min_height": null,
            "padding": null,
            "grid_auto_rows": null,
            "grid_gap": null,
            "max_width": null,
            "order": null,
            "_view_module_version": "1.2.0",
            "grid_template_areas": null,
            "object_position": null,
            "object_fit": null,
            "grid_auto_columns": null,
            "margin": null,
            "display": null,
            "left": null
          }
        },
        "804c4cca15664bc694b2829dffea0b85": {
          "model_module": "@jupyter-widgets/controls",
          "model_name": "HTMLModel",
          "model_module_version": "1.5.0",
          "state": {
            "_view_name": "HTMLView",
            "style": "IPY_MODEL_f1625c0e3a90413fb39565820c6c3ae6",
            "_dom_classes": [],
            "description": "",
            "_model_name": "HTMLModel",
            "placeholder": "​",
            "_view_module": "@jupyter-widgets/controls",
            "_model_module_version": "1.5.0",
            "value": "",
            "_view_count": null,
            "_view_module_version": "1.5.0",
            "description_tooltip": null,
            "_model_module": "@jupyter-widgets/controls",
            "layout": "IPY_MODEL_35408e706f7942e6a46a296ef55a30f4"
          }
        },
        "827838730b214beebd3eeff1acd510ae": {
          "model_module": "@jupyter-widgets/controls",
          "model_name": "FloatProgressModel",
          "model_module_version": "1.5.0",
          "state": {
            "_view_name": "ProgressView",
            "style": "IPY_MODEL_5018d9b9f64441ba9e531c68a134cf38",
            "_dom_classes": [],
            "description": "",
            "_model_name": "FloatProgressModel",
            "bar_style": "success",
            "max": 1648877,
            "_view_module": "@jupyter-widgets/controls",
            "_model_module_version": "1.5.0",
            "value": 1648877,
            "_view_count": null,
            "_view_module_version": "1.5.0",
            "orientation": "horizontal",
            "min": 0,
            "description_tooltip": null,
            "_model_module": "@jupyter-widgets/controls",
            "layout": "IPY_MODEL_a64941d601114b71b71b56b99ab7ddb3"
          }
        },
        "a5320a43cdb949e785e1174774a1a7d6": {
          "model_module": "@jupyter-widgets/controls",
          "model_name": "HTMLModel",
          "model_module_version": "1.5.0",
          "state": {
            "_view_name": "HTMLView",
            "style": "IPY_MODEL_d8eb866413a04afd9f5841f9623ca52b",
            "_dom_classes": [],
            "description": "",
            "_model_name": "HTMLModel",
            "placeholder": "​",
            "_view_module": "@jupyter-widgets/controls",
            "_model_module_version": "1.5.0",
            "value": " 1649664/? [00:00&lt;00:00, 17158184.48it/s]",
            "_view_count": null,
            "_view_module_version": "1.5.0",
            "description_tooltip": null,
            "_model_module": "@jupyter-widgets/controls",
            "layout": "IPY_MODEL_6b3b8a1b15b34fd7aec8413c643ef7f5"
          }
        },
        "f1625c0e3a90413fb39565820c6c3ae6": {
          "model_module": "@jupyter-widgets/controls",
          "model_name": "DescriptionStyleModel",
          "model_module_version": "1.5.0",
          "state": {
            "_view_name": "StyleView",
            "_model_name": "DescriptionStyleModel",
            "description_width": "",
            "_view_module": "@jupyter-widgets/base",
            "_model_module_version": "1.5.0",
            "_view_count": null,
            "_view_module_version": "1.2.0",
            "_model_module": "@jupyter-widgets/controls"
          }
        },
        "35408e706f7942e6a46a296ef55a30f4": {
          "model_module": "@jupyter-widgets/base",
          "model_name": "LayoutModel",
          "model_module_version": "1.2.0",
          "state": {
            "_view_name": "LayoutView",
            "grid_template_rows": null,
            "right": null,
            "justify_content": null,
            "_view_module": "@jupyter-widgets/base",
            "overflow": null,
            "_model_module_version": "1.2.0",
            "_view_count": null,
            "flex_flow": null,
            "width": null,
            "min_width": null,
            "border": null,
            "align_items": null,
            "bottom": null,
            "_model_module": "@jupyter-widgets/base",
            "top": null,
            "grid_column": null,
            "overflow_y": null,
            "overflow_x": null,
            "grid_auto_flow": null,
            "grid_area": null,
            "grid_template_columns": null,
            "flex": null,
            "_model_name": "LayoutModel",
            "justify_items": null,
            "grid_row": null,
            "max_height": null,
            "align_content": null,
            "visibility": null,
            "align_self": null,
            "height": null,
            "min_height": null,
            "padding": null,
            "grid_auto_rows": null,
            "grid_gap": null,
            "max_width": null,
            "order": null,
            "_view_module_version": "1.2.0",
            "grid_template_areas": null,
            "object_position": null,
            "object_fit": null,
            "grid_auto_columns": null,
            "margin": null,
            "display": null,
            "left": null
          }
        },
        "5018d9b9f64441ba9e531c68a134cf38": {
          "model_module": "@jupyter-widgets/controls",
          "model_name": "ProgressStyleModel",
          "model_module_version": "1.5.0",
          "state": {
            "_view_name": "StyleView",
            "_model_name": "ProgressStyleModel",
            "description_width": "",
            "_view_module": "@jupyter-widgets/base",
            "_model_module_version": "1.5.0",
            "_view_count": null,
            "_view_module_version": "1.2.0",
            "bar_color": null,
            "_model_module": "@jupyter-widgets/controls"
          }
        },
        "a64941d601114b71b71b56b99ab7ddb3": {
          "model_module": "@jupyter-widgets/base",
          "model_name": "LayoutModel",
          "model_module_version": "1.2.0",
          "state": {
            "_view_name": "LayoutView",
            "grid_template_rows": null,
            "right": null,
            "justify_content": null,
            "_view_module": "@jupyter-widgets/base",
            "overflow": null,
            "_model_module_version": "1.2.0",
            "_view_count": null,
            "flex_flow": null,
            "width": null,
            "min_width": null,
            "border": null,
            "align_items": null,
            "bottom": null,
            "_model_module": "@jupyter-widgets/base",
            "top": null,
            "grid_column": null,
            "overflow_y": null,
            "overflow_x": null,
            "grid_auto_flow": null,
            "grid_area": null,
            "grid_template_columns": null,
            "flex": null,
            "_model_name": "LayoutModel",
            "justify_items": null,
            "grid_row": null,
            "max_height": null,
            "align_content": null,
            "visibility": null,
            "align_self": null,
            "height": null,
            "min_height": null,
            "padding": null,
            "grid_auto_rows": null,
            "grid_gap": null,
            "max_width": null,
            "order": null,
            "_view_module_version": "1.2.0",
            "grid_template_areas": null,
            "object_position": null,
            "object_fit": null,
            "grid_auto_columns": null,
            "margin": null,
            "display": null,
            "left": null
          }
        },
        "d8eb866413a04afd9f5841f9623ca52b": {
          "model_module": "@jupyter-widgets/controls",
          "model_name": "DescriptionStyleModel",
          "model_module_version": "1.5.0",
          "state": {
            "_view_name": "StyleView",
            "_model_name": "DescriptionStyleModel",
            "description_width": "",
            "_view_module": "@jupyter-widgets/base",
            "_model_module_version": "1.5.0",
            "_view_count": null,
            "_view_module_version": "1.2.0",
            "_model_module": "@jupyter-widgets/controls"
          }
        },
        "6b3b8a1b15b34fd7aec8413c643ef7f5": {
          "model_module": "@jupyter-widgets/base",
          "model_name": "LayoutModel",
          "model_module_version": "1.2.0",
          "state": {
            "_view_name": "LayoutView",
            "grid_template_rows": null,
            "right": null,
            "justify_content": null,
            "_view_module": "@jupyter-widgets/base",
            "overflow": null,
            "_model_module_version": "1.2.0",
            "_view_count": null,
            "flex_flow": null,
            "width": null,
            "min_width": null,
            "border": null,
            "align_items": null,
            "bottom": null,
            "_model_module": "@jupyter-widgets/base",
            "top": null,
            "grid_column": null,
            "overflow_y": null,
            "overflow_x": null,
            "grid_auto_flow": null,
            "grid_area": null,
            "grid_template_columns": null,
            "flex": null,
            "_model_name": "LayoutModel",
            "justify_items": null,
            "grid_row": null,
            "max_height": null,
            "align_content": null,
            "visibility": null,
            "align_self": null,
            "height": null,
            "min_height": null,
            "padding": null,
            "grid_auto_rows": null,
            "grid_gap": null,
            "max_width": null,
            "order": null,
            "_view_module_version": "1.2.0",
            "grid_template_areas": null,
            "object_position": null,
            "object_fit": null,
            "grid_auto_columns": null,
            "margin": null,
            "display": null,
            "left": null
          }
        },
        "30ae108bc47247ba96d4731f75c50ffd": {
          "model_module": "@jupyter-widgets/controls",
          "model_name": "HBoxModel",
          "model_module_version": "1.5.0",
          "state": {
            "_view_name": "HBoxView",
            "_dom_classes": [],
            "_model_name": "HBoxModel",
            "_view_module": "@jupyter-widgets/controls",
            "_model_module_version": "1.5.0",
            "_view_count": null,
            "_view_module_version": "1.5.0",
            "box_style": "",
            "layout": "IPY_MODEL_d54f4576eb924f858ab2585d9c8e91fb",
            "_model_module": "@jupyter-widgets/controls",
            "children": [
              "IPY_MODEL_94e84644d8754ad58472c436bcad446f",
              "IPY_MODEL_50b1b22b899f42c19c01802146a6282b",
              "IPY_MODEL_bae55d90baf149b0b5ef4b12a9617183"
            ]
          }
        },
        "d54f4576eb924f858ab2585d9c8e91fb": {
          "model_module": "@jupyter-widgets/base",
          "model_name": "LayoutModel",
          "model_module_version": "1.2.0",
          "state": {
            "_view_name": "LayoutView",
            "grid_template_rows": null,
            "right": null,
            "justify_content": null,
            "_view_module": "@jupyter-widgets/base",
            "overflow": null,
            "_model_module_version": "1.2.0",
            "_view_count": null,
            "flex_flow": null,
            "width": null,
            "min_width": null,
            "border": null,
            "align_items": null,
            "bottom": null,
            "_model_module": "@jupyter-widgets/base",
            "top": null,
            "grid_column": null,
            "overflow_y": null,
            "overflow_x": null,
            "grid_auto_flow": null,
            "grid_area": null,
            "grid_template_columns": null,
            "flex": null,
            "_model_name": "LayoutModel",
            "justify_items": null,
            "grid_row": null,
            "max_height": null,
            "align_content": null,
            "visibility": null,
            "align_self": null,
            "height": null,
            "min_height": null,
            "padding": null,
            "grid_auto_rows": null,
            "grid_gap": null,
            "max_width": null,
            "order": null,
            "_view_module_version": "1.2.0",
            "grid_template_areas": null,
            "object_position": null,
            "object_fit": null,
            "grid_auto_columns": null,
            "margin": null,
            "display": null,
            "left": null
          }
        },
        "94e84644d8754ad58472c436bcad446f": {
          "model_module": "@jupyter-widgets/controls",
          "model_name": "HTMLModel",
          "model_module_version": "1.5.0",
          "state": {
            "_view_name": "HTMLView",
            "style": "IPY_MODEL_f5629fc7f92d45cb9b5c50e2d6720b3d",
            "_dom_classes": [],
            "description": "",
            "_model_name": "HTMLModel",
            "placeholder": "​",
            "_view_module": "@jupyter-widgets/controls",
            "_model_module_version": "1.5.0",
            "value": "",
            "_view_count": null,
            "_view_module_version": "1.5.0",
            "description_tooltip": null,
            "_model_module": "@jupyter-widgets/controls",
            "layout": "IPY_MODEL_2377236a87914443b6ff0b077f864965"
          }
        },
        "50b1b22b899f42c19c01802146a6282b": {
          "model_module": "@jupyter-widgets/controls",
          "model_name": "FloatProgressModel",
          "model_module_version": "1.5.0",
          "state": {
            "_view_name": "ProgressView",
            "style": "IPY_MODEL_00528a6909d04c93accbb5d5840c5b1b",
            "_dom_classes": [],
            "description": "",
            "_model_name": "FloatProgressModel",
            "bar_style": "success",
            "max": 4542,
            "_view_module": "@jupyter-widgets/controls",
            "_model_module_version": "1.5.0",
            "value": 4542,
            "_view_count": null,
            "_view_module_version": "1.5.0",
            "orientation": "horizontal",
            "min": 0,
            "description_tooltip": null,
            "_model_module": "@jupyter-widgets/controls",
            "layout": "IPY_MODEL_bd5c1e6465044fb8b0689269bbd8ecaa"
          }
        },
        "bae55d90baf149b0b5ef4b12a9617183": {
          "model_module": "@jupyter-widgets/controls",
          "model_name": "HTMLModel",
          "model_module_version": "1.5.0",
          "state": {
            "_view_name": "HTMLView",
            "style": "IPY_MODEL_bb2fbeb193784657ad307ed47e7cc31b",
            "_dom_classes": [],
            "description": "",
            "_model_name": "HTMLModel",
            "placeholder": "​",
            "_view_module": "@jupyter-widgets/controls",
            "_model_module_version": "1.5.0",
            "value": " 5120/? [00:00&lt;00:00, 157046.38it/s]",
            "_view_count": null,
            "_view_module_version": "1.5.0",
            "description_tooltip": null,
            "_model_module": "@jupyter-widgets/controls",
            "layout": "IPY_MODEL_955257f3dfbe4afaa7bb476852bdff7e"
          }
        },
        "f5629fc7f92d45cb9b5c50e2d6720b3d": {
          "model_module": "@jupyter-widgets/controls",
          "model_name": "DescriptionStyleModel",
          "model_module_version": "1.5.0",
          "state": {
            "_view_name": "StyleView",
            "_model_name": "DescriptionStyleModel",
            "description_width": "",
            "_view_module": "@jupyter-widgets/base",
            "_model_module_version": "1.5.0",
            "_view_count": null,
            "_view_module_version": "1.2.0",
            "_model_module": "@jupyter-widgets/controls"
          }
        },
        "2377236a87914443b6ff0b077f864965": {
          "model_module": "@jupyter-widgets/base",
          "model_name": "LayoutModel",
          "model_module_version": "1.2.0",
          "state": {
            "_view_name": "LayoutView",
            "grid_template_rows": null,
            "right": null,
            "justify_content": null,
            "_view_module": "@jupyter-widgets/base",
            "overflow": null,
            "_model_module_version": "1.2.0",
            "_view_count": null,
            "flex_flow": null,
            "width": null,
            "min_width": null,
            "border": null,
            "align_items": null,
            "bottom": null,
            "_model_module": "@jupyter-widgets/base",
            "top": null,
            "grid_column": null,
            "overflow_y": null,
            "overflow_x": null,
            "grid_auto_flow": null,
            "grid_area": null,
            "grid_template_columns": null,
            "flex": null,
            "_model_name": "LayoutModel",
            "justify_items": null,
            "grid_row": null,
            "max_height": null,
            "align_content": null,
            "visibility": null,
            "align_self": null,
            "height": null,
            "min_height": null,
            "padding": null,
            "grid_auto_rows": null,
            "grid_gap": null,
            "max_width": null,
            "order": null,
            "_view_module_version": "1.2.0",
            "grid_template_areas": null,
            "object_position": null,
            "object_fit": null,
            "grid_auto_columns": null,
            "margin": null,
            "display": null,
            "left": null
          }
        },
        "00528a6909d04c93accbb5d5840c5b1b": {
          "model_module": "@jupyter-widgets/controls",
          "model_name": "ProgressStyleModel",
          "model_module_version": "1.5.0",
          "state": {
            "_view_name": "StyleView",
            "_model_name": "ProgressStyleModel",
            "description_width": "",
            "_view_module": "@jupyter-widgets/base",
            "_model_module_version": "1.5.0",
            "_view_count": null,
            "_view_module_version": "1.2.0",
            "bar_color": null,
            "_model_module": "@jupyter-widgets/controls"
          }
        },
        "bd5c1e6465044fb8b0689269bbd8ecaa": {
          "model_module": "@jupyter-widgets/base",
          "model_name": "LayoutModel",
          "model_module_version": "1.2.0",
          "state": {
            "_view_name": "LayoutView",
            "grid_template_rows": null,
            "right": null,
            "justify_content": null,
            "_view_module": "@jupyter-widgets/base",
            "overflow": null,
            "_model_module_version": "1.2.0",
            "_view_count": null,
            "flex_flow": null,
            "width": null,
            "min_width": null,
            "border": null,
            "align_items": null,
            "bottom": null,
            "_model_module": "@jupyter-widgets/base",
            "top": null,
            "grid_column": null,
            "overflow_y": null,
            "overflow_x": null,
            "grid_auto_flow": null,
            "grid_area": null,
            "grid_template_columns": null,
            "flex": null,
            "_model_name": "LayoutModel",
            "justify_items": null,
            "grid_row": null,
            "max_height": null,
            "align_content": null,
            "visibility": null,
            "align_self": null,
            "height": null,
            "min_height": null,
            "padding": null,
            "grid_auto_rows": null,
            "grid_gap": null,
            "max_width": null,
            "order": null,
            "_view_module_version": "1.2.0",
            "grid_template_areas": null,
            "object_position": null,
            "object_fit": null,
            "grid_auto_columns": null,
            "margin": null,
            "display": null,
            "left": null
          }
        },
        "bb2fbeb193784657ad307ed47e7cc31b": {
          "model_module": "@jupyter-widgets/controls",
          "model_name": "DescriptionStyleModel",
          "model_module_version": "1.5.0",
          "state": {
            "_view_name": "StyleView",
            "_model_name": "DescriptionStyleModel",
            "description_width": "",
            "_view_module": "@jupyter-widgets/base",
            "_model_module_version": "1.5.0",
            "_view_count": null,
            "_view_module_version": "1.2.0",
            "_model_module": "@jupyter-widgets/controls"
          }
        },
        "955257f3dfbe4afaa7bb476852bdff7e": {
          "model_module": "@jupyter-widgets/base",
          "model_name": "LayoutModel",
          "model_module_version": "1.2.0",
          "state": {
            "_view_name": "LayoutView",
            "grid_template_rows": null,
            "right": null,
            "justify_content": null,
            "_view_module": "@jupyter-widgets/base",
            "overflow": null,
            "_model_module_version": "1.2.0",
            "_view_count": null,
            "flex_flow": null,
            "width": null,
            "min_width": null,
            "border": null,
            "align_items": null,
            "bottom": null,
            "_model_module": "@jupyter-widgets/base",
            "top": null,
            "grid_column": null,
            "overflow_y": null,
            "overflow_x": null,
            "grid_auto_flow": null,
            "grid_area": null,
            "grid_template_columns": null,
            "flex": null,
            "_model_name": "LayoutModel",
            "justify_items": null,
            "grid_row": null,
            "max_height": null,
            "align_content": null,
            "visibility": null,
            "align_self": null,
            "height": null,
            "min_height": null,
            "padding": null,
            "grid_auto_rows": null,
            "grid_gap": null,
            "max_width": null,
            "order": null,
            "_view_module_version": "1.2.0",
            "grid_template_areas": null,
            "object_position": null,
            "object_fit": null,
            "grid_auto_columns": null,
            "margin": null,
            "display": null,
            "left": null
          }
        }
      }
    }
  },
  "cells": [
    {
      "cell_type": "markdown",
      "source": [
        "# Training Neural Network - Deep Learning and Neural Networks with Python and Pytorch p.4"
      ],
      "metadata": {
        "id": "4UjkqnITNves"
      }
    },
    {
      "cell_type": "markdown",
      "source": [
        "# Training our Neural Network\n",
        "In the previous tutorial, we created the code for our neural network. In this deep learning with Python and Pytorch tutorial, we'll be actually training this neural network by learning how to iterate over our data, pass to the model, calculate loss from the result, and then do backpropagation to slowly fit our model to the data.\n",
        "\n",
        "Code up to this point:"
      ],
      "metadata": {
        "id": "5tQ5GiHbNySj"
      }
    },
    {
      "cell_type": "code",
      "source": [
        "import torch\n",
        "import torchvision\n",
        "from torchvision import transforms, datasets\n",
        "import torch.nn as nn\n",
        "import torch.nn.functional as F\n",
        "\n",
        "train = datasets.MNIST('', train=True, download=True,\n",
        "                       transform=transforms.Compose([\n",
        "                           transforms.ToTensor()\n",
        "                       ]))\n",
        "\n",
        "test = datasets.MNIST('', train=False, download=True,\n",
        "                       transform=transforms.Compose([\n",
        "                           transforms.ToTensor()\n",
        "                       ]))\n",
        "\n",
        "\n",
        "trainset = torch.utils.data.DataLoader(train, batch_size=10, shuffle=True)\n",
        "testset = torch.utils.data.DataLoader(test, batch_size=10, shuffle=False)\n",
        "\n",
        "\n",
        "class Net(nn.Module):\n",
        "    def __init__(self):\n",
        "        super().__init__()\n",
        "        self.fc1 = nn.Linear(28*28, 64)\n",
        "        self.fc2 = nn.Linear(64, 64)\n",
        "        self.fc3 = nn.Linear(64, 64)\n",
        "        self.fc4 = nn.Linear(64, 10)\n",
        "\n",
        "    def forward(self, x):\n",
        "        x = F.relu(self.fc1(x))\n",
        "        x = F.relu(self.fc2(x))\n",
        "        x = F.relu(self.fc3(x))\n",
        "        x = self.fc4(x)\n",
        "        return F.log_softmax(x, dim=1)\n",
        "\n",
        "net = Net()\n",
        "print(net)"
      ],
      "metadata": {
        "colab": {
          "base_uri": "https://localhost:8080/",
          "height": 526,
          "referenced_widgets": [
            "6444bb5081e14c578138b622c7aeae0c",
            "c72bbc2e733348c288914f8593881a22",
            "09417ea17ef24117916a07ce3bb4509c",
            "b818cc1c3a2d4335a2ce7c32199036c7",
            "5c071210b3e54cfc948f5b2ec9271332",
            "a9a761607b754f5792eb43ccd72c7fcc",
            "435196d298c94a81bee1d0369f74da04",
            "89ab57588fd94713aa8730627a9b3425",
            "33e122eb940541b6a1480a9bfecac1ef",
            "60961890d0484c7ab384daf1f61b2e23",
            "0271cf60db404803b37eb140e7170a1f",
            "35f09efa23b14c6ba5503d1b0af7a9f3",
            "4f1597fc669f46eaa283082cba9b18b9",
            "38a8514885664a0fa4e664805dfc881a",
            "b1d1ad8cd2ef49c3a29b46422943498c",
            "2668410b76b74a89b8cbe78f8a6ccb4e",
            "b67a38b1f629409ca1321905ad11ec3b",
            "0146215abba842c6aebb15959f25e9e7",
            "b8650cc00dc846a4bbea1f8a0e5455ab",
            "99a4c01f6ddb4c03aaa7bb42dfee586d",
            "40e37aae2f7942059fc8218c25e3003e",
            "b7fbaa1bf6684f26a06a9e15ff5fba5d",
            "7e1788d9eb714f1eab30ad854908e336",
            "6aeb57b833324abbab057579041d3870",
            "804c4cca15664bc694b2829dffea0b85",
            "827838730b214beebd3eeff1acd510ae",
            "a5320a43cdb949e785e1174774a1a7d6",
            "f1625c0e3a90413fb39565820c6c3ae6",
            "35408e706f7942e6a46a296ef55a30f4",
            "5018d9b9f64441ba9e531c68a134cf38",
            "a64941d601114b71b71b56b99ab7ddb3",
            "d8eb866413a04afd9f5841f9623ca52b",
            "6b3b8a1b15b34fd7aec8413c643ef7f5",
            "30ae108bc47247ba96d4731f75c50ffd",
            "d54f4576eb924f858ab2585d9c8e91fb",
            "94e84644d8754ad58472c436bcad446f",
            "50b1b22b899f42c19c01802146a6282b",
            "bae55d90baf149b0b5ef4b12a9617183",
            "f5629fc7f92d45cb9b5c50e2d6720b3d",
            "2377236a87914443b6ff0b077f864965",
            "00528a6909d04c93accbb5d5840c5b1b",
            "bd5c1e6465044fb8b0689269bbd8ecaa",
            "bb2fbeb193784657ad307ed47e7cc31b",
            "955257f3dfbe4afaa7bb476852bdff7e"
          ]
        },
        "id": "IJDBxlmWNwlJ",
        "outputId": "308530c1-b173-4fda-c0fb-5152c64ad587"
      },
      "execution_count": 1,
      "outputs": [
        {
          "output_type": "stream",
          "name": "stdout",
          "text": [
            "Downloading http://yann.lecun.com/exdb/mnist/train-images-idx3-ubyte.gz\n",
            "Downloading http://yann.lecun.com/exdb/mnist/train-images-idx3-ubyte.gz to MNIST/raw/train-images-idx3-ubyte.gz\n"
          ]
        },
        {
          "output_type": "display_data",
          "data": {
            "application/vnd.jupyter.widget-view+json": {
              "model_id": "6444bb5081e14c578138b622c7aeae0c",
              "version_minor": 0,
              "version_major": 2
            },
            "text/plain": [
              "  0%|          | 0/9912422 [00:00<?, ?it/s]"
            ]
          },
          "metadata": {}
        },
        {
          "output_type": "stream",
          "name": "stdout",
          "text": [
            "Extracting MNIST/raw/train-images-idx3-ubyte.gz to MNIST/raw\n",
            "\n",
            "Downloading http://yann.lecun.com/exdb/mnist/train-labels-idx1-ubyte.gz\n",
            "Downloading http://yann.lecun.com/exdb/mnist/train-labels-idx1-ubyte.gz to MNIST/raw/train-labels-idx1-ubyte.gz\n"
          ]
        },
        {
          "output_type": "display_data",
          "data": {
            "application/vnd.jupyter.widget-view+json": {
              "model_id": "35f09efa23b14c6ba5503d1b0af7a9f3",
              "version_minor": 0,
              "version_major": 2
            },
            "text/plain": [
              "  0%|          | 0/28881 [00:00<?, ?it/s]"
            ]
          },
          "metadata": {}
        },
        {
          "output_type": "stream",
          "name": "stdout",
          "text": [
            "Extracting MNIST/raw/train-labels-idx1-ubyte.gz to MNIST/raw\n",
            "\n",
            "Downloading http://yann.lecun.com/exdb/mnist/t10k-images-idx3-ubyte.gz\n",
            "Downloading http://yann.lecun.com/exdb/mnist/t10k-images-idx3-ubyte.gz to MNIST/raw/t10k-images-idx3-ubyte.gz\n"
          ]
        },
        {
          "output_type": "display_data",
          "data": {
            "application/vnd.jupyter.widget-view+json": {
              "model_id": "7e1788d9eb714f1eab30ad854908e336",
              "version_minor": 0,
              "version_major": 2
            },
            "text/plain": [
              "  0%|          | 0/1648877 [00:00<?, ?it/s]"
            ]
          },
          "metadata": {}
        },
        {
          "output_type": "stream",
          "name": "stdout",
          "text": [
            "Extracting MNIST/raw/t10k-images-idx3-ubyte.gz to MNIST/raw\n",
            "\n",
            "Downloading http://yann.lecun.com/exdb/mnist/t10k-labels-idx1-ubyte.gz\n",
            "Downloading http://yann.lecun.com/exdb/mnist/t10k-labels-idx1-ubyte.gz to MNIST/raw/t10k-labels-idx1-ubyte.gz\n"
          ]
        },
        {
          "output_type": "display_data",
          "data": {
            "application/vnd.jupyter.widget-view+json": {
              "model_id": "30ae108bc47247ba96d4731f75c50ffd",
              "version_minor": 0,
              "version_major": 2
            },
            "text/plain": [
              "  0%|          | 0/4542 [00:00<?, ?it/s]"
            ]
          },
          "metadata": {}
        },
        {
          "output_type": "stream",
          "name": "stdout",
          "text": [
            "Extracting MNIST/raw/t10k-labels-idx1-ubyte.gz to MNIST/raw\n",
            "\n",
            "Net(\n",
            "  (fc1): Linear(in_features=784, out_features=64, bias=True)\n",
            "  (fc2): Linear(in_features=64, out_features=64, bias=True)\n",
            "  (fc3): Linear(in_features=64, out_features=64, bias=True)\n",
            "  (fc4): Linear(in_features=64, out_features=10, bias=True)\n",
            ")\n"
          ]
        }
      ]
    },
    {
      "cell_type": "markdown",
      "source": [
        "Luckily for us, the \"data\" that we're using from Pytorch is actually nice fancy object that is making life easy for us at the moment. It's already in pretty batches and we just need to iterate over it. Next, we want to calculate loss and specify our optimizer:"
      ],
      "metadata": {
        "id": "EgPyfxeZN6es"
      }
    },
    {
      "cell_type": "code",
      "source": [
        "import torch.optim as optim\n",
        "\n",
        "loss_function = nn.CrossEntropyLoss()\n",
        "optimizer = optim.Adam(net.parameters(), lr=0.001)"
      ],
      "metadata": {
        "id": "RmUhDshzN2J-"
      },
      "execution_count": 2,
      "outputs": []
    },
    {
      "cell_type": "markdown",
      "source": [
        "Our loss_function is what calculates \"how far off\" our classifications are from reality. As humans, we tend to think of things in terms of either right, or wrong. With a neural network, and arguably humans too, our accuracy is actually some sort of scaling score.\n",
        "\n",
        "For example, you might be highly confident that something is the case, but you are wrong. Compare this to a time when you really aren't certain either way, but maybe think something, but are wrong. In these cases, the degree to which you're wrong doesn't matter in terms of the choice necessarily, but in terms of you learning, it does.\n",
        "\n",
        "In terms of a machine learning by tweaking lots of little parameters to slowly get closer and closer to fitting, it definitely matters how wrong things are.\n",
        "\n",
        "For this, we use loss, which is a measurement of how far off the neural network is from the targeted output. There are a few types of loss calculations. A popular one is mean squared error, but we're trying to use these scalar-valued classes.\n",
        "\n",
        "In general, you're going to have two types of classes. One will just be a scalar value, the other is what's called a one_hot array/vector.\n",
        "\n",
        "In our case, a zero might be classified as:\n",
        "\n",
        "0 or [1, 0, 0, 0, 0, 0, 0 ,0 ,0 ,0]\n",
        "\n",
        "[1, 0, 0, 0, 0, 0, 0 ,0 ,0 ,0] is a one_hot array where quite literally one element only is a 1 and the rest are zero. The index that is hot is the classification.\n",
        "\n",
        "A one_hot vector for a a 3 would be:\n",
        "\n",
        "[0, 0, 0, 1, 0, 0, 0 ,0 ,0 ,0]\n",
        "\n",
        "I tend to use one_hot, but this data is specifying a scalar class, so 0, or 1, or 2...and so on.\n",
        "\n",
        "Depending on what your targets look like, you will need a specific loss.\n",
        "\n",
        "For one_hot vectors, I tend to use mean squared error.\n",
        "\n",
        "For these scalar classifications, I use cross entropy.\n",
        "\n",
        "Next, we have our optimizer. This is the thing that adjusts our model's adjustable parameters like the weights, to slowly, over time, fit our data. I am going to have us using Adam, which is Adaptive Momentum. This is the standard go-to optimizer usually. There's a new one called rectified adam that is gaining steam. I haven't had the chance yet to make use of that in any project, and I do not think it's available as just an importable function in Pytorch yet, but keep your eyes peeled for it! For now, Adam will do just fine I'm sure. The other thing here is lr, which is the learning rate. A good number to start with here is 0.001 or 1e-3. The learning rate dictates the magnitude of changes that the optimizer can make at a time. Thus, the larger the LR, the quicker the model can learn, but also you might find that the steps you allow the optimizer to make are actually too big and the optimizer gets stuck bouncing around rather than improving. Too small, and the model can take much longer to learn as well as also possibly getting stuck.\n",
        "\n",
        "Imagine the learning rate as the \"size of steps\" that the optimizer can take as it searches for the bottom of a mountain, where the path to the bottom isn't necessarily a simple straight path down. Here's some lovely imagery to help explain learning rate:"
      ],
      "metadata": {
        "id": "pICPYQGcN_Fb"
      }
    },
    {
      "cell_type": "markdown",
      "source": [
        "![image.png](data:image/png;base64,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)"
      ],
      "metadata": {
        "id": "xz-gJdCXOBLL"
      }
    },
    {
      "cell_type": "markdown",
      "source": [
        "The black line is the \"path\" to the bottom of the optimization curve. When it comes to optimizing, sometimes you have to get worse in order to actually get beyond some local optimum. The optimizer doesn't know what the absolute best spot could be, it just takes steps to see if it can find it. Thus, as you can see in the image, if the steps are too big, it will never get to the lower points. If the steps are too small (learning rate too small), it can get stuck as well long before it reaches a bottom. The goal is for something more like:"
      ],
      "metadata": {
        "id": "W7YESRluOBNj"
      }
    },
    {
      "cell_type": "markdown",
      "source": [
        "![image.png](data:image/png;base64,iVBORw0KGgoAAAANSUhEUgAAAykAAAIbCAIAAABgzUYvAAAgAElEQVR4nO3dfXRU9b33/U0KmS0KTHp8gGN6DAgmWDwnU9qLCdzahLtezVhbM8VVE7tWMfeqhFxnrWbsKsZYr5VkHVlUvdZJwh9XDHbdCeePRlylQH0geKiCHOigt2b3kiYTHhLUoKDWDBHkyZL7jw3jZDLz23tm9tPMvF/r/FEye2b/MvXYD9/fd39/0yYmJiQAAABYIs/uBQAAAOQQshcAAIB1yF4AAADWIXsBAABYh+wFAABgHbIXAACAdcheAAAA1iF7AQAAWIfsBQAAYB2yFwAAgHXIXgAAANYhewEAAFiH7AUAAGAdshcAAIB1yF4AAADWIXsBAABYh+wFAABgHbIXAACAdcheAAAA1iF7AQAAWIfsBQAAYB2yFwAAgHXIXgAAANYhewEAAFiH7AUAAGAdshcAAIB1yF4AAADWIXsBAABYh+wFAABgHbIXAACAdcheAAAA1iF7AQAAWIfsBQAAYB2yFwAAgHXIXgAAANYhewEAAFiH7AUAAGAdshcAAIB1yF4AAADWIXsBAABYh+wFAABgHbIXAACAdcheAAAA1iF7AQAAWIfsBQAAYB2yFwAAgHXIXgAAANYhewEAAFiH7AUAAGAdshcAAIB1yF4AAADWIXsBAABYh+wFAABgHbIXAACAdcheAAAA1iF7AQAAWIfsBQAAYB2yFwAAgHXIXgAAANYhewEAAFiH7AUAAGAdshdgnKMdK6ZFqduZ1tsTWrGibufRo+kudmfdpA9NdrEOYsD3luZ/c7rWlcHfMABDkb2AjHPgwKZ7Fi1aUdeRdv7KLXxvAByB7AVkqAObAouyrpQyuRi3woyUlCnfmwVfBQB7kL2ADLbpnkxIEc7D9wbARtPtXgCABJYvX7NkSewPD23adCD6z5ue7Fjna1ho3aqcj+8NgLORvQCnWvJEV5dvyk+71nWsWBT4KkcceOHlow2EiCipfG8LG/ZPNFi0PgC5jj1HIMMs/MFPlkf/+cDAEbuWklH43gA4BNkLyDSxIQL68L0BcAayF4A4tGZTTX4KL0Hn+tGdHXUrVkz6oBUrVtTVdcQZs6V+4D2bon92ILDIosFYekZxqb9N5Bep69h5VEr6ccSjOzvqvrpV/Ilj9n4VAExH9gIyzdGXXzigfZXNjnbUrZi26J7ApgMHJi32wIEDmzYF7lm0aNq0FXU7LZ2bkNb3trNuhfrbXP3BgU2BexYlOfnhaIf6IZEfXJk4xvwIILeQvYAMs/OZwKQIsfz2RXYtJZGjHSsWBTZpBZ0Dm+5ZZGEhJ43v7WjHinvi/joHAosml6dENt2zKBD3OzmQGQPHABiF5xwBpzr0ZF3d9ik/jJmVIC3/yQ+c9pBjbMpJbM0rcZ5ITJfh35v+3ydljLwAcgnZC3CqAwc2HdD83/w1Tzjuf7F3bp9UClq+Zs1PqqpukyRJOrx9+wtfZaDl7Ueikpev68iRddKRZ6ILScvbX9n8g0XSwuR+Q6O/t5jfR5KWL1/zkyeqbpMOb39Su7oX48rwsSlRMHrkhXFfBQBHInsBGcyUupGh1ryy/6sl+ny+hq4u6ejOjmeeHKjaH5N+Fi5cKMWOfVi00JS0kcz3dvTwoZj3Xv2NfD7fD25fkWAjMY7l7Uciv3NX19GYeWMDRyQpMm7Muq8CgPXo9wIy1PI1k+pGDrXpnhV1HR07d+48evTo1Sf6FvoauvbbtvRkv7cjA9HZann7uuj3JjO3IqbUtrDhiTXRLx86TMc9kCOoewGZZ/maVzav8zm1DLLo9uWSFFXQ2RQ4MHnTbvnyNUt+UrWuwWf1L2DC97bwtiXRvywAaKPuBTjVmlcmVEfaY2srty9yavCSphZ0prgyZkJ7GFZqMvV7A5AryF6A4y1s2Dw5RRwIrHb0SChf18SR9jWam3Fmz1bIuO8NQG4gewEZYEop6UDgGWdPhFrY0LV/YuLIkVdeaW9fs2bNmuXLly+PE8Y2bTf118i87w1ADiB7ARnBty5mA23TPenVjGIe30tyQmvsw38JLFzo8zU0dHV1de3fv3///is7gdFxyOwOc8O/NwBIF9kLyAxTNtCkTU/q20A7urNuxbRpKzqiT/A52rF68miEJbcJG6Fi7qU5bfRox4qrBx7GWthQFRW+DgzEzlIwWOrf2xWLbo9+e0zh7GjHk7rn2gOAiuccAdPEHbAe6/Z1XTqnfC5seGJNIPoImwOB1R0/iJ2SNdnRnXWrrxyHE7hnUSDRZE9pTVXM1IXY5/cOBBZNeyHRu2PtrFsUOCBJB+7ZFLj6VOOV4aqHtw+8MOntwnrbgcDquoElSXxFcaXyvUW/Peab2HTPikOpz1ZNlTFfBQBnmABglKkP1mmLPJU35e1Rr0S8EvsEYbyLIhfrXc7y9iM6bqXvl0juS4i9c9ybin5Hg7434Uck8U1M+n201jX5cw35KgBkAvYcgUySVPuST9/gz+Xtm+PVUqbcKtqaNQnyyJTNzOTu7KtKIvElIa22L+E3YRqzvgoAtiN7ARklTvtS4hSxsGH/kVeEsx6Wr4k652bquxO8ec0rXVWiW+qYLzH5hJ2vmJVzkvrepr45wTexfM0ryZQHk2NP5ANgPrIXkGGmji4VNY8v9HXtnzhy5JX2NZNGPCxfvnxN+ytHJvaL24d8Xftj3rp8zStHJsRH8iz0XZ0v0a7Oloh+cfny5WvWtL9yZGIiQeS7kheNTx3JfW+xpnwTy5eveeWIuScjmfZVALDXtImJCbvXAAAZKuZE7PjFPACIRt0LAHQ5unPK0IyjL7+QzKgOAJDIXgCgx9GOFYvuuWfRirqOnUdVOzvqJtW8pDijOgBgKvYcAUDDzroV9+iY5LXmFY1WOACQyF4AIBbT0pUQyQuAPuw5AoDIwobN4kEdkiRJy9uPELwA6EP2AgCxhb4uwbSH5WteOZJoYgYATMWeIwAAgHWoewEAAFiH7AUAAGAdshcAAIB1yF4AAADWIXsBAABYh+wFAABgHbIXAACAdcheAAAA1plu9wIAAAAMoyiKoijHjx+XJKmoqKi0tLS0tNTuRU1C9gIAABkpOmapDh482NfXF3OZ1+vt7u4uKSmxdnUJcaYQAADIMOFwuKamZmrMSqSkpKS/v1+WZVNXpRP9XgAAIMP4/X79wUuSpFAolNT1piJ7AQCATBIMBvfs2ZPsuxRFMWMxKSB7AQCATBIMBlN4V1FRkeErSQ299gAAIDOozfU7duxI9o2yLFdWVpqxpBSQvQAAgNMl21wfTZbl7u7uuXPnGr6q1PCcIwAAcLqKiopke7xkWV67du0tt9xSXV3tnOAlkb0AAIDDBYPBsrIyzcsee+wxl8ul/me32+20yBWRSXuOiqKEw2G32+20AbUAAMA8eprrq6qqNmzYYMFi0pcZzzmGw2Gfz+fxeCoqKjweT1lZWSgUsntRAADACnqa6++77z4LVmKIzNhznLrL66gBtQAAwAw6W+xlWR4ZGXHmDuNUGVD3ijtCLRQKbd++3Zb1AAAAa+iZX++0xxg1ZUb2ivvz1tbW8+fPW7wYAABgDc359dXV1W1tbSMjI9XV1ZatKn0Z0GsfDofj/lw9m6mqqsri9QAAALOFw+GmpibBBbIst7W1ZVC5KyID6l6Cpi7nnM0EAAAM5Pf7xUWvDRs2ZGLwkjIiezFRAgCAnKK52yjLcmbtM0bLgOxVXl7unPMvAQCA2cQDvTKuuT5GBmQvWZZXr15t9yoAAIBF3nvvPcGrnZ2dmVv0kjKi1x4AAOQIzYFesixXVlZauSTDkb0AAIBTiFvsM323UZUBe44AACAXaLbYNzY2ZvRuo4rsBQAAHEHzzOzsePaO7AUAABwh0TR1VRZ0eqnIXgAAwOmyo9NLRfYCAACOpgavLOj0UpG9AACAo2VHi30E2QsAAMA6ZC8AAADrkL0AAACsQ/YCAACwDtkLAADAOmQvAAAA65C9AAAArEP2AgAA9guHw7t27bJ7FVYgewEAAPv5/X7Ns7SzA9kLAADYLBgM7tmzx+5VWITsBQAAbJYjFS8V2QsAANgsHA4LXi0qKrJsJRYgewEAAOeSZbmystLuVRiJ7AUAABxKluXu7u65c+favRAjkb0AAIBDNTY2VldX270Kg5G9AAAArEP2AgAANtu7d6/dS7AO2QsAANgpp4Z7SWQvAABgr5wa7iVJ0nS7FwAAAKygKIqiKMePH5/6UlFRUWlpaWlpqfWrCofDW7ZsSfRqlk32UpG9AADIcuFwuKampq+vT3yZ1+utq6uzOIQJjnHMvsleKrIXAABZzu/362moCgaDagzyer3d3d0lJSVmL0zc6RUIBLJsspeKfi8AALKWoig+ny/ZTvZgMOj3+8+fP2/SqqJvJHjV5XKZvQBbUPf6ysDp4cHTI6PnTtm9EKnwmpsWz5l/+5wFdi8EAJCpdO4zJhIKhfr6+qqqqoxdVYycOsYxgux1JXK99OG+Nz5+2+61TOIpKH7KE7j1ukK7FwIAyDw69xkFWltbS0pKLNh5jCtbm72kHM9e45fONrz9jNMiV0T/2FD9m+tfLO9w5eXbvRYAQCYxZGKWoih+v7+/v1+WZUNWFSMcDu/atSvuS1l5jGNETvd71b+13rHBS3XszOh/fpRbU08AAOkzamJWKBTq6ekx5KOmEjzhmJXHOEbkXN0r0tSljB0Ofvqu3cvRtnGo9+55XkpfAAD9xH1UkiTJstzY2ChJUldX18mTJwVX1tfXb9682djHHhVF6evry6lZ9tFyKHs5fIcxkWNnRre+/6cHi3x2LwQAkDHExyOqO3pqYSkQCLS2tra3twuuVx97NGTzMc0nALJDTuw5Dpwe3vr+n/6fYHPGBS/V//w///v+fb86dmbU7oUAADKAoNlLluXm5uaRkZHIjp7b7d6wYYPmE4WhUKiioiIUCqW5Nr/fryd4ZesTjqosz17jl87WBlt+uLfhUaW9f2zI7uWkTu27v3D5ot0LAQA4WjgcbmpqSvRqY2NjS0tLTA+7LMu9vb2aje1pDv0Kh8M6J41l8ROOqizfc6x/a30KTV2uvPwH5/tmTZ9pxpIE/vDBa6NfJJwuduzM6E/3P/7rJQ97CoqtXBUAIIOIR0skqid5vd7BwUGPxxP3tMcItfV+7dq1ya5KUZRHHnlEZ/DK4iccVdmcvV468UaywcuVl79u8c/uLbzrBleBSasSuOvGpfVvrv/kwliiC/rHhu7f9yvmfgEA4nr++ecF+UZcT3K73b29vX6/39jWe0VRmpqadDZ4ybI8ODiY3RuOUrbuOapbjQ1vP5PUu1x5+U97Gmpvvc+W4CVJkqeguGPpOs1HGtl/BADEUHf0ampqBNdoHo/o9Xq3bdtm1OajuiSPx6M/eHV3d2d98JKyNXslO7jLlZf/i+KavXf/9t6b7zJvVXosu/6OZ//b45rx69iZ0TdOvWPNkgAAzqenh724WLtlRd181NN6r3k7nW31quhHL7NetmWvgdPDtcEWnVuNauR64ps/33v3bxuKH7Sr3BXjrhuX/ts//w/NywbGhy1YDADA4XT2sOtvYFc3HzWrX4qipLmkyMLa2tqiH73MetnT75Xs+C51h9H2Qldc9xbeufFwr6DvHgAAlZ5zG5NtYNfTet/R0VFVVVVaWprakqIXljupS5XZda8dO3ZEZo3o3GeMrnU5M3hJkuTKy29fuk5ch3v5xD5avgAgx+k5t1FtYE8232hWv9QpqdFdX4qi9PT01NfX6w9eKSwsC2R29lKP+Tx//nz/2JCefUa11tVQ/KCNDfU6eQqKX13Z+cQ3f55onbR8AQA0z21Mp4Fds/U+FAo9++yzUlRbfW1trfoTTbnTWT9Vxu85qu1+X5S6NK908iZjXLNnXFt7630XLl96ZnBz3As2Hu5dMKuQYRMAkJuOHz/e0dEhuCD9HT3NzcdHHnlky5Ytku7Tu2VZXrt27S233FJdXZ3dQ7wEMiN7iQ+Qam1t/dVvm8Wf4MrLf3VlZ+HMGw1dlxVunzM/0UsDp4fr31z/YnkHJ20DQK4JBoM1NTWCfiyjZmW53e7u7m6fz5doqITO1GXgkjJdZuw5xm3li1AU5cnax2++JmGuUitemRi8JEladv0dhTNvSvQqO48AkGvUDb6ysjJx8DJwR6+8vDwQCKT5Ibm8yRgjM7JXeXm5+L+t0LuDq77wTm2Ncs7grpS58vJrbhE9FcywCQDIKZpzs8zoYZ8zZ046b8/Ztvq4MmbPUfOgg7H+E6/+unPr+7vHvzyr/mT29GvtOh3IWIJtRwBATtHzYKMZ5SXxBpQYFa8YmZG9JEnyer3qfrPgGrU53bIlWUbddmTcFwCgqalJfIFJ47LUDSjxSdtx5eYEL7HM2HNUae48Zis9474AAFlPs+i1YcOGhx56yIxbqxtQ+p9MlGW5ubk51wbW65RJ2Uv8X/yWLVs0z/XMXJ6C4poiXWdBAACy0vnz5zUnSpgUvFTqvIm2trbm5mZxCFNrXS0tLZqnd+emjNlzVHm93rq6utbW1qkvqYO+qqqqrF+Vkw2cHh48PTJ6LvX9ysJrblo8Z/7tcxYYuCoAQLJqamq2b9+e6NVkTw1KjdvtVh94DAQCPT094XA47jW5PLtLjwzLXpJw1peiKDmYvd7826GOod/FfUkZO6z/gEsxT0Hxr5c87CkoNuTTAAD6qaf3CJ5ttH5uViSEIQWZl70Ej1p0dHSUl5eXl5dbuR7bBT99V895SmnqHxu6f9+vPAXFT3kCTNIHACtpHk3d1taWm/3QGSqT+r1Ugo77cDhcUVFRVlYWOWAbxuofG6p/c/2xM6N2LwQAcoVmf70syzSzZ5bMy16yLG/YsEFwQTAYVA/YtmxJOeXYmdH6N9dfuHzR7oUAQE4QD5Vwu907d+50u92WrQfpmzYxMWH3GpJ2/vz5xYsXi6eM9Pb2OufvAYqiKIqSwliUaIduOtl/8wmjlpSmZ7/z67vnee1eBQBkuWAwWFZWJrigu7vb1GcbYYbM6/eSrj7NITjXU5Kk1tbWqqoq8SHcFtBskNRv5rdumNu8LP3PMcTA+DDZCwDMJj6mWpblykrGD2WejMxekiSVl5d3dnbW1tYmuiAUClVUVNTV1ZWWlqZzEkKyYkpcu3bt0n/Au9i5Q3/78uNz02+8xpBPS9Pukwfvvfkumu4BwFQ7duxI9JI1QyVghozcc1Tp2XlUqecRlZSUmLcYNXJt2bLFkBJXIq7igrlN3/5agSuV9+blPzjfN2v6TP1v6T3e98mFsUSv3npd4YvlHa68/BQWAwDQJNhwtH6oBAyUqXUvSd8B2yq1+76/v9+MLUgDdxU1XRga++Bf98xaWZh33QzBZddff31dXd306V/9l5vaseK1C+57VGn/z4/i1+2OnRl949Q77DwCgEkE2yaBQIDglbkyOHtJV8838Hg8mtUvdQvS8OqXoiiPPPKI5pHyBrp89tLpF0fE14xJhw99ftt3v/vdysrKdMrRs2dcW+ouTpS9JEnaeLh3waxCdh4BwAxxp8arXK5UNkDgEJk3YyKG2+0Wj5yIUKtfRo3+UhTF5/N5PB4rg5d+PT09tbW18+bNq6ioEPx/r6bb58wXvDpweph5EwBgEtsfF4NJMj57SZJUVVWls/QaCoXSH/0VDofV1GXNPmOa9uzZU1FRkfKvvOz6Owpn3iS4QN15TO3DAQACVj4oBitl9p6jSn/jl2TE5qPm2Q5isiw3Njam/HZJkt57772enh791yuK8uyzz6Z28JYrL7996br6N9cLmu6ZNwEAZlDPcUlzNiQcKIOfc4wRDod7enqeeuopPQmspKTkgQceiPlhUVGR5kAKzTF3YuojwekPfVX3T/X8pqq5c+eOjIykXL5+4+O3a4MtiV79RXFNQ/GDqX0yAECgpaWltbV16s+bm5tbWhL+axkOlw11L5V6pvpDDz3U09PT0dEh/otCKBSK+0+zJEler/f73/9+ojfu2rVL53pkWV67du2cOXOiV1hdXW3ILBb1IYOenp5wOLx582bNvxWdPHly8eLFzc3NqU07U3ceR784lep6AQDAFdlT94qWbFnIWOqJk0bFLE3J/rKpTTtTT9GOu/PIoC8AMAl1r6yUDb32U6llodQ6nNKk7ioGAgHLZg17vd5t27bpv11qZ417CopriuKfXEG7PQAA+mVn9pKuzp6wbPScLMuBQKCtrW1kZMT6M7zVrNnW1tbc3KznbK9QKOTz+ZKdPSGobA2MDyf1UQAA5Kzs6feaKqnnH9O8ke1nO6jtbpIk9fX16Rl+oc6e6O7u1t/+JZ71BQAA9MjaupdKLQiZnYqsLLBpUp9J1nOloigej6esrEznad+as74AAICmLM9ekiS53e7e3l7zuq9kWbZ+k1FArfYl1f5VVlZWVlamOfHflZf/42+sTHuBAADktGzec4yInsgQ94Kurq7U9iXVznrL2up1iv59//KXv2zfvl3zLaYeNw4AACJyIntJUe1QcQUCAUEyE3ymZYMkkhX5fc+fP7948WI9Y5FDodD27dsdVcMDACD75Er2EhMns4yW1AMHra2tVVVVlL4AADBP9vd7ITKBQrMHPxQKZcQB4QAAZC6yV05QC3uvv/66ZvxqbW3VbLoHAAApI3vlkKKiov7+fvFTkIqipDD1HgAA6ET2yi3q8wHimWehUKiiooLqFwAAZiB75SK3211XVye4ILUzHwEAgCayV47SPEqIvnsAAMxA9spReo4eUhTFmsUAAJA7yF45KtmjhwAAgCHIXrnLmoPGAQBANLJXTjP7oHEAQMrC4fCuXbvsXgWMR/bKdV6vV/zMIwDAFn6/PxgM2r0KGI/sBb3GL53d9/E7dq8CAHJCMBjcs2eP3auAKche0Kv+rfX9Y0N2rwIAcgIVryxG9oIu/WNDwU/ftXsVAJArwuGw4FUek8poZC/oonzGEUMA4AiyLFdWVtq9CqSO7AVdxr88K3i18JqbLFsJAOQyWZa7u7t5Pj2jkb2gTdxl78rLv+umb1m5HgDIWY2NjdXV1XavAmkhe0GboMvelZf/tKfhBleBxUsCACBDTbd7AXCuz6754uCn7x47Myrosq9btOrem++yclUAAGQ0shfiyLt2xo2/+tbLiwdfPvC43WsBACCrkL0Qx9zHvy0v+Qc9V9JlDwBAUuj3QixXcYHO4EWXPQAAySJ7IZZ8m1vPZXTZAwCQAvYcESvvuhl6LutYuu7ueV6zFwMAQJah7oUUrX1r/f37fnXszKjdCwEAIJNQ90Lq+seG6t9c/4Ob74z+YeE1Ny2eM//2OQvsWhUAAE5G9kKsiYuX9V987MzoxqHeqT/3FBQ/5Qncel2hcesCACAbkL0Q6+LI6fQ/JKYkRjEMAAAV2Quxzh3625cfn5t+4zVpfs7UkpinoPjOG+PPpCCcAQByBNkLsSYuXj71v96Z2/TtrxW4jP3k/rGhROdCqtipBABkPZ5zRBwXhsZObvj/rrmka9iEgdSdyguXL1p8XwBwlHA4vGvXLrtXAbNQ90J8F4bGfjTwzUUPfnv8y7ORH/7hg9dGvzhl6n2PnRn96f7HqX4ByGV+vz8YDNq9CpiF7IWE8v/+tdpb74v+yV03Lq1/c/0nF8ZMva9a/XqxvMOVl2/qjQDAgYLB4J49e+xeBUxE9kISPAXFr67s3Pr+7uhimMrYktixM6NvnHqHufkAchAVr6xH9kJyZs+4NqYYpjK8JLbxcO+CWYXsPALINeFwWPBqUVGRZSuBScheMEaikljv8b7UAtnA6WF2HgEgmizLlZWVdq8C6SJ7wTBxS2K1C+6Lu0epEu9UsvMIABGyLHd3d8+dO9fuhSBdZC+YK9EepUpzp3JgfJjsBQCSJDU2NlZXV9u9ChiA+V6wk6eg+GlPg92rAAAH2bt3r91LgLnIXrDZsuvvKJx5k92rAABHYMBELiB7wWauvPz2petucBXEffXlE/sYcw8gdzBgIhfQ7wX7eQqKa4oqYw7eVonb7QdODw+eHhk9Z9hcMY70BmAvwYAJpktkDbIXHEEwSCJuu/3A6eFnBv/jjY/fNmMxHOkNwBaCYxyZLpFNyF5whNvnzNd55filsw1vP2NS6lJxqBEA64XDYZ/Pl2jPMRAIMF0ia9DvBUcQdNzvPnnw2JnRyB/r31pvavBSHTsz+p8f0XUBwDri87NdLpeVi4GpqHvBEVx5+T/+xsq4LV/RA+77x4aCn75rzZI2DvXePc9L6QvIBYqiKIpy/PhxPRcXFRWVlpaWlpYauAAeb8wpZC9kgEjHvfJZyPqbWnZHANYLh8M1NTV9fX3JvtHr9ba1tXm9BvwrIhwONzU1ia+h0T6bsOcIpxBXmDYe7u0fG3r5w32WrUe9afR2J4Ds4/f7UwhekiQFg8GysrKysrJQKN2/E/r9fnHRi0b7LEP2glOI2+0HTg/fv+9X/WNDlq0nctODVu1yArCS2tue5k5fMBj0+/3nz583bw0c45h92HOEU6jt9oKjtQVcefkPzvfNmj4ztVsLjvQev3T2wQOPM3UCyD6a1SadQqFQRUVFd3d3SUmJ4Wuoqqrq7OwkeGUZshecQh1wLz5aO5G6Rasaih9M59bPDG4WXMDUCSCbqD1eBva2q9Wv/v5+WZY1L4709Z86dUpzDffddx/BK/uQveAg6tHatcGWZN9YeE1aJ0LqmS5G6z2QHcRjtFIWCoX6+vqqqqrEt06qr582r2xFvxecJYWjtV15+Xfd9C0LbkrrPZAFxGO00qEoiuatkwpetHllK+pecJZkdx5deflPexoSHcVt7E2jJ42lczsAttC51SjLcmNjY9yXurq6Tp48meiNW7Zseeyxx+JuOya7yynL8uDgIHMlshXZC47jKSh+aMGPxA1YEf/2z//j3pvvMuSmr67s3Pr+7k8vhruP/fHC5YtxL2PnEchceprr1WpTdXV13FcDgYDH40k0gpupQ5gAACAASURBVDXRtqOiKI888khSwau7u5vglcXIXnAincc7pr/bGG32jGtrb71PkqT8vBlxJ+yrNh7uXXb9HbNnXGvUfQGYTX/FS1xtcrvdvb29fr8/UfWrtbW1pKQk8sCjoihNTU1JzQ+j4pUL6PeCE+lswKq99Udp7jbG5SkoFrw6cHr4pwceT1QYA+A0anO9ZgDSWW3yer3d3d2JXlUURR33pd7U4/EkG7yoeOUC6l5wIsHxjtHy82Ykeknn6Wxxz2XTnDQ2cHpY+Wxo2fV3iD8cgBPoaa5fu3Ztc3Ozzsb28vLyoqIi8c5jR0dHsjMsxNudyCZkL2SbFE5nizmXTU/rff8Y2QtwOv1bjfqDl3p9XV2d4ATGpqYmnQcNRfr63W53dXU1TzXmCLIXskF0lWvXrl3JPkCunsumbiWojRpq6/39+36VaKjE51+eTX/ZAEylv7k+2dATUyyPoT94UejKTWQvZLDCa25KoZU1EXUy9bZt29T4NXvGtf+vt/WnBx6Pu/m49f0//aK4hmETgGMFg8H0m+sTEW876kFPfS6j1x6ZKn/ajGcf+V/JtrKKhUKh6GNxC2fe+HRpQ9wrP7kw9sapd4y6LwDDCfYEVek0tsuy3Nvbm/IWIT31OY7shYzkysuf/fLnu/9gWOqKUPtkI38s/XpxokcpGXMPOJZm0Wvt2rUjIyPp7Pd5vd6Ghvh/N0tEluVAINDW1pbmrZHpyF5wKPF23g+uWfZm126Tbh19MIgrL3/VP/3fcS9Tx9wzbAJwmnA4LC56Jdtcn4i462vqTQcHB9va2gKBAD31OY7sBYcSj1fdvWWnZSsRTLJQx9xbthIAeohb7A08J1Ht+tJzJZuMiEavPRxKMGRr4uLld3//Z/0fFfd0NsG5bDt27Kiuro5MphZX4AbGhzliCHAO8W6jsR3uateXYMx95DKeZ0Q0shccKtGQrYmLlz/ZqPx97ILOz0n0b71AIFBbW7t9+/apb1EnU/f396tn4uo84AiA7TR3GwOBgLHFJ6/XOzg42NPTEw6H417A4C5MRfaCc0XOtx7/8uzmzZuPHz9++cylM//1oSB4ybK8du3aOXPmqH8U/FvP7Xb/y7/8S9zsJU0+E1dzzD0Ah9Ac6FVcLDoxLDVutzsQCBj+schiZC842vBfj0xTxvq2bOnve1Xz4mR3E9SyViKKoqjZSzzm/uUT+9Yuup9BX4DtNJ9tlGW5srLSsvUAiZC94FApHA20YcOGpHYT9D+j5CkorimqjHu+pNpuT8sXYDvNZxuNarEH0sRzjnAiteMqqeAly3KyraziZ5R27NgRfTCIoLI1MD6c1H0BGE6z6NXZ2Um3OxyC7AVnCYfDPp/P4/FoHgYSLbW/0YonU6v5LzLjno57wMnEp7iy2whHIXvBWZIqd1VXVzc3N6czJNrr9dbV1SV6NRQKRZrx1Y77FG4BwAKJHjOU2G2E85C9kNCWLVsiVR8LqBUv/eUuWZbb2tpaWlrSHBIt7rhvbW1VvwRXXv6Pv7Ey7jW7Tx7kcCHAmdRHcNhthKOQvZBQzMmGZkuq4mXgX2TFHfd6vgQOFwIcy/CBXkD6yF4QFX6iTzY0lWafbIR6EJuBJ9Fqngqi50vgcCHAmVwul91LAGKRvZDccbBm0BxFrVI3GUdGRlpaWgxs3RB33EfTPFzIqCUBALIY2QtJHAdrEs1R1NLVTcY0W7sSUU8FSfQldHR0qKUvHnUEAKSP7AVJluXVq1fHfSlmxpUZ9IyiTudJRp3cbneiBx7VKa+hUIhHHQEA6SN7QSRmxpUZNKfymFfuiiHYew2FQn6/f+Li5fal625wFZi9EgBAFiN7QYPZTzvu2LFD8KqVo6jFe6/q96AeLhT3gouXL5m2NABA9iB7QZJ0nCptxk01B3pZPIparbFpPvWZqON+6/t/YswEAEAT2QuSpPWoo0ldX+KBXraMoi4vL+/s7Ez0qvo9eAqK4776yYWx343sNG1pAIAsQfaCJGltt5nR9eXYg2+rq6sTfRXq91Ay85ZELV9dR7dS+gIAiJG9IEk6ZlwZ2/WlOdDLxoNvBU99SpIUCoVef/W1uoWr4r76yYUxJqwCAMTIXrjC6/U2NDQILujo6Ojp6TGk90tzoNeGDRtsPPhW84THpRcXJCp9MWEVACBG9sJXxF1fe/bsqa2t9Xg8ZWVl6bR/Pf/885oDvew9+Fb8PSiK8sCPf3LfP37XsvUAALLJdLsXAAdRu76OHz8uviwYDPr9/t7e3mQPI1KHlIr3Lm1psY+h+T2EQqH3h9+TpqV+i4HTw4OnR0bPnUr9I+IpvOamxXPm3z5ngbEfCwAwENkLX1G7vvx+/8mTJ8VXhkIhj8fj9Xq7u7tLSkp0fr6es4PsarGPpud7OHnypDQv6U9WI9dLH+574+O301qikKeg+ClP4NbrCs27BQAgZWQvTKLGKZ/Pp+ditQD2wAMP6Ln44MGDeg5ttKvFPobm9/DXv/5Vmvd1/R84fulsw9vPmBq5IvrHhurfXP9ieYf48G8AgC3IXoilc+dRFQqFWltbDbmvE3Ybo4m/h08//bRASiJ71b+1PvjpuwYtTduxM6NvnHrn7nley+4IANCJXnvE0pw3YdJNBwcHbd9tjGbI9zBwenjr+3+qDbZYGbyu3JonLgHAkah7IQ6v17tt2zY9jV+GUCteguGudklqBzaGlZuMAIAMQvZCfF6vd3BwsKenJxwOb968WecWZArU4OWoile0pHZgo1m8yQgAyBTsOSIht9sdCARaWlrM24J04FZjDFmW6+rqknrL+KWztmwyAgAyAnUvaIvUwDo6OgwsgDl2qzFGsmPMkqp4ufLyH5zvmzV9ZvLruuLNvx0i5wFABiF7QRe1Bub1eg1pApNlubGxce3atc55qlEgqW3HnuE/jl86q+dKV17+usU/u7fwrkTHE+nUMfS7uNnr5RP71i66nzETAOA0ZC8kIboJLOUPcbvd1dXVGZG6VPpHzkqSpD94Pe1puPfmu9JeXUKMmQAAZyJ7ITlqAczuVVhNPWi8qakp/Y9y5eXXLVr1YJEvzXJX9Acmemnj4d4FswoZcA8AjkL2AnRJtutrKqM2GWPcPmd+opcGTg8z4B4AnIbnHAFd1K6vlN+ubjLW3nqfscFLkqRl199ROPOmRK+qO4/G3hEAkA6yF6BLzJj7a5b8g/73uvLyX13ZaVJ3lysvv+YW0SGYDLgHAEchewF6qWPuJUlyFRfIurOXWvEqnHmjeQsTbDsCAJyGfi8gCerO49ht03Re/2CR7xfFNYbvM8ZQtx1Hvzhl6l0AAIag7gUkQZbl1atX5103Q8/Frrx8C4KXeqP2pessuBEgSZKiKD09PS0tLT09PYqi2L0cIPNQ9wJMoW41WpaHPAXFNUWVG4d6p760++TBe2++i0kTSF84HK6pqenr64v+odfrbWtr83rtnCQXDod37dpl4wKApFD3ApKTd+2MmZ4bxNeY2lyfLHXSxIXLF+1eCDKboih+vz8meEmSFAwGy8rKysrKQqGQLQuTJMnv9weDQbvuDiSL7AUk58+LP3AVi6pZFjTXJ4tJE0hHOBz2+Xwej2fPnj2JrgkGg36///z581YuLHJrwcIAByJ7AUnoHxs6fPmE4IJbP7t+792/taXiJR6gyqQJpCxuuWuqUCjU09NjwXpiUPFCxiF7AUlQPhPtqkxcvPzPH86zq+edSRMwltpT7/P59FeV6uvrrd98FB8vm85IZMAk9NoDSRj/UnRU9mf/MXjdt75j2WJiMGkCRonbU6+TuvnY398vy7LhC5tK3GUvy3JlpWjyMGAL6l6AMSYuXj7zXx/auAAmTcAoOjcZEwmFQtu3bzdwPQKCLntZlru7uyNnUQDOQfYCkpCop2ri4uVPNip/H7tg8XpiqJMm7F0DMpraVp9+63pra6sFfffiLvvGxsbq6mqz1wCkgOwFJCFRT9Vn/zF4Zp+dRS/AEGlWvCJCoZAhnyNGlz0yFNkLSILaUxXzQ9t3G/V4+cQ+RnxB7Pnnn9dZ8ZJlubm5Wbyd19raanbTPV32yFBkLyAJU3uqHLLbqIkRXxBQtxpramr0XKz2UbW0tGzbtk0Qv9RZrKbuPO7duzfRS3TZw8nIXkByPAXFr67s/PYHhWPPH/7bb//6/po/OWq3UTDlixFfSETnVqNa7hoZGVH7qLxe7+DgoKC8ZOrOo6DZiy57OBzZC0ja7BnXLv7kprHew6dfHHFaxYspX0iKzuZ6WZbb2tpGRkZaWlqiM43b7a6rqxO80bzDtgXNXnTZw+HIXkBWiduRBiSip+KllpECgUDcSlJpaangvTt27DCp62vHjh2JXqLTCw5H9gKyiisv/8ffWBn3pd0nDx47M2rxeuBkeprrZVkeHBwUlJHKy8sFWcekri/xhiOdXnA4sheQKwZOD9e/uZ6nHSHpbq5XK17iMpIsy729vYLmKjO6vgQbjonqc4BzkL2AHMLTjlDp32rU0zjl9XobGhoEFxje9SWYLlFcXGzsvQDDkb2AbCN41FHiaUdojYNXaW41xhB3fW3ZssWCMfcSG47IEGQvINvwqCPENMfB69lqjCHu+rJmzL0kSUVFReKBq4ATkL2AbMOjjhATp5NkK16Rd4m7viwYcy9JUigUMnugK5A+sheQbaYO3wd0SqHiFeH1eru7uxO9asGYe1UoFNq+fbvZdwHSQfYCspCnoLimiK4XxJfoKB79zfWJaO48VlRUGFL9kmVZ8GprayulLzgZ2QsAcoig0T79cfCyLIvH3AeDQUOqX+LWfkpfcDiyFwDkinA43NTUZOotxKlIMqjvXlxgkyh9wdnIXoCRzDtBBUif3+8XTJcw5CgezVQkGTHuy5aBroBRyF6AkSxrKAaSJR7rZdRkLM1UZBSv1zs4OCg+zsjsNQCpIXsBBuMv3HAm8VgvA4/i0UxFRnG73RybjUxE9gJSIX7Mir9ww4HEY72MPYrH7XZbUP3SM6AfcCCyF5AKzYZiwFHC4fCuXbsSvWrGUTxer1f8zGP6NAf0A85E9gJSoaehGHAOv9+fKKmoY70s6NAy3I4dOwSv8v+hcCyyF5AKyxqKgfSJ9+bSH+uVLEOO1rbm0QHADGQvIEUWbKkAhnDa3pwhz6MIfqnMreQhR5C9ACDLibvszdubEzySks7zKIqi9PT0dHV1Jbqgs7PT4koekJTpdi8AgKVePrFv7aL7XXn5di8EjmDq3pzhj6SEw+GamhpxzYzdRjgfdS8gtxw7M/rGqXfsXgUcwey9OcEjKSmcAKEOLtbcrDRwUBlgErIXkJ0Ela29H7998NN3B04PW7keOJDZXfayLK9evTruS0mdABEOh30+n8fj0TPNy+VyJbdKwHLsOQLZ6fY58xO91PteX+97fZIkeQqKn/IEbr2u0MJ1AVeoHfdVVVWCaxRFURSlq6tL/+MCjJaA81H3ArLTsuvvKJx5U8wPp03+Y//YUP2b6y9cvmjZqpBrUjsBQu2mV2tdtbW1+oMXzV7ICNS9gOzkysv/8TdWbhzqjf7hxJTL1Pavu+d5LVsYcoq43f706dMxP9HTTZ8IoyWQKcheQM6YmFL4kiRJkgbGh8leMInabn/8+PG4r7a3tweDwe9///uRn+zatSvZaWSVlZXLli1zu93V1dUEL2QEsheQtWLb7eMFL8BU6gkQfr//5MmTcS8IBoPpjH6l1oVMRL8XkLUE7faAZcw7AYLghQxF9gKyVtx2e8B64o771D6wra1tZGSE+fXIRGQvIGu58vLbl667wVVg90KQ64wdcK+Wu5ihisxFvxeQzTwFxa+u7Nz6/u7xL88e/Nu7Bz89ZPeKkIvEHfd6yLK8du3aOXPm0FOPLED2ArLc7BnX1t56nyRJHUO/I3vBFpod9+L3btiwgbyFbEL2AgCYzuv1Dg4O9vT0hMPhrq4unSFM3V6kqQtZhuwFALCC2+0OBAKSJAUCATWEaV5PuQtZiewFALBUJIQBuYnnHAEAAKxD9gIAALAO2Qsw3pYtW86fP2/3KgAATkT2AlKXaFp3KBTavn27xYsBAGQEsheQOsG07lAoZOVKAACZguwFpE6d1m33KtK1++TBY2dG7V4FAOQKsheQOlmWV69eHfelHTt2ZErpa+D0cP2b6y9cvmj3QgAgJ5C9AFMoiuL3+zOl4/7YmdE3Tr1j9yoAICcwWxUwSygU6uvrq6qqMvZjFUVRFEV8LHFRUVFpaWlMO5orL1/wloHx4bvneY1ZIgAgMbIXkJZEjzqqFEUxMHuFw+Gampq+vj6d13u93u7u7pKSEvWPt8+Zb9RKAAApY88RSIvgUUfD+f1+/cFLkqRgMBi977ns+jsKZ95kztIAAHqRvYC0WPaoYzAY3LNnT7LvCoVCFRUVate/Ky+/fem6G1wFJqwOAKAX2QtIiyzLvb29c+fOjfuqUQPuw+FwU1NTau+Nrn55CopriirTXw8AIGVkLyBdXq+3rq4u7ktqu336t/D7/SkUvaKX0dPTk/4yAADpo9ceMICg4761tbWkpCTS8J4stb8+neClqq+v37x5c3d3tzQt/gUnzn2y9f0/jZ47leaNIgqvuWnxnPm3z1lg1AcCQHYgewEGEHTcq4O++vv7xU9EJpJmxSuauvn489/H37vc+v7ure/vNuRG0TwFxXfe+C2JKAYAV5G9AAOoHfeJZm6lPOhLT399dXV1cXGx+p83b94snvsVCoU2b94s/V8zk11JyvrHhvrHhiJ/9BQUP+UJ3HpdoWULAACnod8LMIAsy4lavlSKoqTwscFgUPO+bW1tLVcJuv4jRkftPLqxf2yo/s31HB8JIJdR9wKMYcagr3A4LHhVluXu7u7osOX1egcHBz0ej7j6Za9jZ0b/+2v1hTNv+vE3VrIRCSAHUfcCjCEe9GX40dqyLA8ODlZXV8f83O1266l+2W70i1Mbh3ofVdp/uLfh/n2/ohIGIHeQvQBjiAd9pXa09t69exPdq7u7O1HU83q927Ztc378ilA3IgdOD9u9EACwAtkLMIxg0JckSaFQaPv27fo/TdBo39jYOLXiFbOSwcHBuOFs4uJl/WuwzLEzoxTAAOQI+r0AI4kHSbS2tlZVVekZNpHOIHuVuvno9/tPnjwZ/fOLI6c13+vKy69btCrlW/ce7/vkwlgKb1QLYO1L19EBBiCLkb0AI4k77kOh0G9+85uqqirNxnzxWC+dJ0jGbb0/d+hvX358bvqN1yR6lysv/2lPw70336XnFnHVLrhv6/u7x788K0nSHz54bfSLJOa1qgUwT0Hxr5c87CkoTnkNiJZo8xqALaZNTEzYvQYge5w/f37x4sWajxl6vd7u7u5Ew+6DwWBZWVmi98qyPDIyor+dSx2pGl39chUXzG369tcKXDFX5k+bsfa2+x8s8hl43rZaykqtDMYwMEMI/nFqbm5uaWmxeD0AqHsBRlI77qfu9MVQ89ADDzwQ+UlRUVFpaalaDxOP9QoEAkn10aut99FLujA09sG/7pm1sjDvuhmRyy6fuTT35My6N34su1KZv5+Ip6D41ZWdkTLYiXOf6J+ezxakITSnxAGwGHUvwHjhcDi1IVter/f73//+3r17BRuO3d3dDz30UApL6unp2bVrl/hs797eXnEXf/pGv/j4pwceT2ojkgJYOlpaWlpbW+O+lNo/SwDSRPYCTNHX1+fz+Qz/2GQ3HGNorqqkpCTloyf1S2Ej8tbrCl8s73Dl5Zu3qqwUDod9Pl/c0lea/ywBSBkzJgBTVFZWJmrnStnUQfbJEg+Ala4ePZny5+ukbkQ+8c2fF868Sedbjp0Z/en+x7e+/yfGgCXF7/cn2nNMdvMagFHIXoBZdu7cqfOBRJ00x3ppEg+AVbW2tho7gj+u2TOurb31vval6/T39fePDTEHPynis9hdrtiHLQBYg+wFmKWoqOjPf/6z0/ppNKfepzaCPzWRAtgvimuSCmH1b66/cPmiqWvLAnTZA85E9gJMNHfu3O7u7pGREUMKYEZV0QRT71WhUKiiosKC6pd0tQDWUPzgqys7k92CpPolJj6L3diiLAD9yF6A6YqKitI/31qW5crKSqOW5Ha7BccfSVenYFhT/VLNnnFtsluQVL9SZuw/TgCSwnwvwApqqamnp2dqKaKrq0s8DEwyost+Ks3Z+mrffVVVlYE3FYsMA+sZeVHPEIpjZ0b/5//pXPb1JYvnzGcGmH5m/OMEQD9mTAA2UydvCbaH3G53dXW14f9LqWcEv11zz1MYQsEMsKkSTfZinD1gL+pegM3cbncgELD+vnpG8G/ZsuWxxx4ze9zXVJECWNfRrToTGEPwAWQK+r2A3KWn6d6CcV9xqT34SY0BU8/hZgIFAIcjewE5ze12i58DsGbcVyKpjQGrf3M98SscDu/atcvuVQCIg+wF5Dqv19vd3Z3oVSvHfSWibkEmNYGCRyAFE+0B2IvsBUDjrCEbdx4jkp1AcezM6Bun3jF1SU4mnmgPwF5kLwCSLMvicV+Koli2mEQ8BcWd/+3X+uPXwHjunvxIxQtwMrIXAEnSGve1Y8cOG7u+IqLPINLcgtx98mD/2JA1C3MaJtoDTsZ8LwCSpGPcV0lJSX9/v/XzJhLROQMsN+d+PfLII+3t7XFfkmV5ZGSEwaqAjah7AZCkq+O+BP+T7ISur2iRGpj3+jsEl+Xa0UPhcNjn8wmCFxPtAduRvQBc4fV6GxoaBBfs3bvXssXooU6guPOGb4kvO3Zm9D8/ypX+J7/fL4jIjY2N1dXVVq4HwFRkLwBfEXd9tbe3l5WVOaHxK9rtc+ZrXrNxqDcXSl883ghkBLIXgK+Ih01IkhQMBm0f9xVj2fV3aPbdHzsz+tP9j2f3wNVwONzU1CS+hi57wAnotQcwiZquBIc8SpK0bdu2qqoqy5akSWff/a3XFb5Y3uHKyzd1MaFQKBgMig8pLyoqKi0tFVcZk1VRUSEuetFlDzgEZ2kDmEQdc+/z+QTXKIriqOyl8+xtdeDq3fO8Ji3j5MmTtbW1+p9I8Hq9nZ2dhiQwzd1GuuwB5yB7AYil7jyKKzdOo/bdr/qn7/1wb8PoF6cSXbbxcO+CWYVGjZxQFEVRlMgXtXnz5qS+tGAw6PF4ioqKmpub0yyDiYepqsGLLnvAIcheAGKp8yY0dx4daPaMa9ct/lnD288kumDg9HD9m+tT3nmMDlsHDx40ZOjG8ePHa2trpasVx5KSkhQ+5L333hO82tnZSfACnIPsBSAOr9e7bdu2TIxfd8/zFs68SVD6Sm3nMRwO19TUmDrhTO20e+CBB5J9ozgFyrJcWVmZ3tIAGInsBSA+r9dbV1fX2tpq90KS48rLb1+6Ttx6PzA+nGz28vv9FoxvCIVCxn7htHkBDsSMCQDZxlNQ/LRHNCQ2WZk7N4thqoADkb0AJM0hR2sL6Bn6pZ/m3CzHYqAX4EDsOQJImqIofr/fUUdrxxDvPL58Yt/aRffrabdXFKWpqSm1olcgEJgzZ07MD7u6uixroaPTC3AmsheAVKhHaztqylcMT0FxTVHlxqHeqS/pabdPp7leluXOzs6HHnpo6kuBQKCnpyccDv/lL3/Zvn17Ch+ufw10egHORPYCkJC4rOW0CatTCSpbmoO+kmqul2V57dq1kSpXdXV1olERbrc7EAhIknT+/PnFixebNESNgV6Ak5G9ACRk7KE31hMcsy0e9KWnuV6W5cbGRkmS3G53dXV1shUmk4aoqatau3YtFS/AscheABLKxAH30dSO+0SzvtQDtp/yBKZWv8Rj4lUbNmxQK1gp83q9g4OD6hZkOp8TkVoKBGAxsheAhDJ3wL3KlZdfc0vlM4ObE12gHsI9tfqlGYZkWTZkRy+yBQkgdzBjAoCIOmHV7lWkTrDtqFL77mN+uHfvXsFbaGMHkA6yF4BspmfQ18D4cPQfBc1esiw3NzePjIzQxg4gZWQvANlMHfR1g6tAcM3LJ/ZduHxR/c/hcFgwSbWxsbGlpYWKF4B0kL0AZDlPQfGrKzsF1S+16f7YmVFJa7QEY+IBpI/sBSD7zZ5xrbj6pTbd7wv+lyB4MSYegCHIXgByguYB28fOjK77bavggkAgwG4jgPSRvQDkCs2++xN3XJxReF2iV4uLi01YFICcQ/YCkCtcefnrFv9McEH+/Nlzm749LT/OvxjZcARgFGarAsgeA6eHB0+PjJ6LP8hekqSLly+JP2FG4XUzPTeePThpliwDvQAYiOwFIBuMXzrb8PYzb3z8dvoflb9gdnT2kmV5cHCQJxwBGIXsBcDpNKtZkiTt+/id/rEhM+4eCAQIXgAMRPYC4DjRYUsZO2xINStltNgDMBbZC0CKtmzZ8thjj8mybOBnGrh1aAha7AEYjuccAaQoFAr19fUZ+5n1b623PXh9eeqc+h9osQdgBrIXAA2CypaiKEbdZfzS2dpgS/DTd436wNRMXLz8Rf/HnJkNwDzsOQLQUFpaasFd6t9a74Tg9clG5e9jF55obm5pabF3MQCyFdkLgIby8vKioqLjx49PfWnHjh3V1dUlJSUpf7jaVq+EhwwPXq68/LpFqwQXBIPBXbt2Rf54+cylM//14d/HLkiS5Ha7jV0MAERMm5iYsHsNAJyupaWltTX+WYclJSX9/f0pdNyb2lbvyst/2tNw7813JbogHA77fL5gMDj1JQZ6ATAVdS8AaVE77quqqpJ618Dp4fV//W2ytS5XXv6D832zps8UXzZ7+rX3Ft51g6tAcI3f748bvCQGegEwGdkLgDZxWUtRFP3ZK9lyV2TrUE+i0ikYDO7ZsyfhHV2u9G8BAImQvQBoM7DdPqmees2twxSEw+GmpiYDPxAAkkL2AqBN0G4vSdLp06c1P0HtqX/pw31JBa9XV3YWzrwxiYXq4Pf7BUUvSZLYcARgKnrtAegSDAb9fv/JkyfjakQm+AAACbBJREFUvur1eru7u+M+8JhaT73hFS9FURRFOXjw4LPPPiu4TJblkZER5qkCMA/ZC4BegqcdpcQPPP70wOMp9NQbGLzC4XBNTY2eEfzqIHvmqQIwFXuOAPQSd9yHQqGKioq6urrS0lK1P0yteCW1yVi3aJWBPfUqzU3GiM7OToIXALNR9wKgV19fn8/n03OlugX5b5/9h71t9ZIkPf/88zU1NXquZLcRgDXIXgD0On/+/OLFixN13Me47b+XfvmvhXqudOXlr1v8M2NrXVIyW40Su40ALMSeIwC9ZFnu7e0VdNxHO/Pda/SMujep3CUls9XIIHsAVqLuBSA54gceVa7igpufXqHn0+acl28Zi1Puuu6Cq+DcNV8/pzHCPpFTp06Jn2eMoOIFwGJkLwBJC4fDHo9HsPk454fz/+Hn30z/RheGxr7o/+TLU+cujJy+ODKe/gfGIHgBsB57jgCS5na7xZuP0/K/ZsiNXMUFruIrVbELQ2Mfb/zLpdEz6X+sLMuNjY1ut7u6uprmegAWo+4FIEXhcLinp+epp56amsBmfuuGuc3LDL/jpdEzo4+8MXHxcjofQq0LgL3y7F4AgEzldrsDgcDg4GBbW1tMo/q5Q3/78uNzht9xRuF1Mz1pHTFE8AJgO+peAAwwtQHfVVwwt+nbXytwGXujsecPj/UeTu29PM8IwAnIXgCMoW5BdnR0RHrw866dMWtlYd51MyLXzFr5jek3XpPOXVLOXlS8ADgE2QuAkcQTKNIvhqWQvaqqqr773e/SVg/AIcheAAymFsDC4XDcVy9+7e/Hvv7pxel/T/T2I9d/em7GpUSvLj9edOtn/6BzJW63u7KysqSkROf1AGABshcAZxm/dHbr+7vHvzz7hw9eG/3iVPRLrrz8vXf/1tijhwDAYmQvAA7VPzZU/+b6Ty6MqX807/QhALAS2QuAc0VqYLOnX2v4YdsAYAuyFwAAgHWYrQoAAGAdshcAAIB1yF4AAADWIXsBAABYh+wFAABgHbIXAACAdcheAAAA1iF7AQAAWIfsBQAAYB2yFwAAgHXIXgAAANYhewEAAFiH7AUAAGCd6XYvAECm+fzgcx/tf+nD1w+NX/3J7AWr/vHB+nnL5s9K60OWzLqz4TbvylmFSS7o4KN/fHKrJEmStOo7Lz49T/PWv7/v9c2HIn+8+YljS5cleUcASN20iYkJu9cAIFOMPvf2M785MZzo5SU3P9G+dNn89D5Eml3x3NJfrtQd40YON3wvdPXTZq/eXX6/xgLIXgBsxZ4jAH0+P/joH+tFmUmSDp148nt7/v219D5EGn/94dcbHv1I57JGd38Y9Wnj+3Z/rvONAGAPshcAPQ4++vqVfT0N468/vOf3I2l+iDS89a2G5/SkqM+DL41H/3n4pY9Gdd0BAGxC9gKgbeTw7/RlJkmSJGl8c+BwnACU4EMWLJm9YEmcnw//5u1EGS7qMz/ad2jyTw59GNR8FwDYiF57AJoOdoZidgkXrCp5sP42tbVrdOSjFwJvvR6dgQ6FXnjttl+uFH/I7IrHin/y8LyrnfWfH3zu7Sd/E13EGt/c+dH9wt75qQvT8y4AsBN1LwBaPto/uV614LGKjqdvi/TUF86f98sdFasn165e74tp2Ir9kIrnyn/5VfCSJGnWsofLOx+bPemirR8eTGZh+t4FALYiewHQMPL5e5P+fPODD099CHHW/Q03T/pBTACK+ZAlJT+ZXBVTFT5cXDHpB59/INhAfO3D1+O/cGK/qN8fAGzFniMADSOfT9rXW/WP8ScyrFz64rGlej+kONEQr3krVkmvf1XNGn9/RJISzIw42Hfiqz8smb3g0HjkFq/3ffTLlWw7AnAk6l4AMtLkzv0F9y5dF71fuXVIu08fAGxB9gKQiSaP9Zp95/dmFX7vHxd89RMGfQFwKvYcAaRj9LXDL/TFTzn/VL9Ua8R8yiaP9Vryj975kiTNu3NJaPjq45bDL300+nDSxxMBgOnIXgDScuzD17eOx32lonJpolatdE0e67XgXvV5yVnee2dvjhwQeejD4MhtpoU/AEgVe44AMs7ksV6z7/zelecuY7YdN3fqPZgIAKxD9gKQaSaP9bqy4ShJkiTNn3dn9JgxBn0BcCCyF4AMM3ms19UNR9Us773R01kZ9AXAecheANJR+HD5i8d+pP7fE6usuOOksV5RG45X1jNp23HqeH0AsBu99gAM8vkHQ+bfZMqB3O93vv3vguu3Dv2+fh4d9wAchOwFIDlDn49K8+LNbjjzfvRx2tLsf4pOPPNnLZCkrxrkE35IzBGNkz8kdqyXJEnjiZ6yjFywb/fn98c5BAkAbMKeIwAN82dF7+JJh0LPPBdnoNfBR9+afLrirG9Mzl63TP6QF+J1Yo0+NyT6kJixXvoMv/TRaLLvAQDzkL0AaIh5eFCShn/zesOjH41GDu0Z+ej3j+55cvJW4JRjH+etmNwN9vrDe/79uehU9PnB5/bU/2ZytIr5kMljvfQ69GGQ84UAOMe0iYkJu9cAwOlee/uHD5/Qvuwrs1fvLo/tsho53PC90PCUSxcsmS1J48NxQlXshxx89I+xCU+nVd958enI0dqf//6+1zd/dbvZC1ZNrsnFY+aMfgA5hn4vANpWLn1i1Qn9uWfBY/GSyvzbHlwVmvohw4fibyNO+ZCYVrCbnzi2dHJpLUpMztv64cGn5yW4eHx46/jURBjDxBn9AHINe44A9Fj2dMXqJdqXSZK0YNV3OhL0ti97ukLnHIo4HzJ5rNeUPc3JYvdJGfQFwDHIXgD0mXX/joonVs0WXjO74rGKjq929+J8yLKnf9T52M0LEl8hSbMrnovzIZPHekkVlYK7SFOGrDLoC4Bj0O8FIEmfH3zu8P6XPn/9q73C2QuWzLqz4TbvylnxxkYk+pCP9r/0od4Pie0VE244XvHRv98a/ehlpHsspt9Ll4rnfvTLlcm9BQDiI3sBAABYhz1HAAAA65C9AAAArEP2AgAAsA7ZCwAAwDpkLwAAAOuQvQAAAKxD9gIAALAO2QsAAMA6ZC8AAADrkL0AAACsQ/YCAACwDtkLAADAOmQvAAAA65C9AAAArEP2AgAAsA7ZCwAAwDpkLwAAAOuQvQAAAKxD9gIAALAO2QsAAMA6ZC8AAADrkL0AAACsQ/YCAACwDtkLAADAOmQvAAAA65C9AAAArEP2AgAAsA7ZCwAAwDpkLwAAAOuQvQAAAKxD9gIAALAO2QsAAMA6ZC8AAADrkL0AAACsQ/YCAACwDtkLAADAOmQvAAAA65C9AAAArEP2AgAAsM7/DyInSt7Qm0y9AAAAAElFTkSuQmCC)"
      ],
      "metadata": {
        "id": "TwOy-3oJOBQD"
      }
    },
    {
      "cell_type": "markdown",
      "source": [
        "For simpler tasks, a learning rate of 0.001 usually is more than fine. For more complex tasks, you will see a learning rate with what's called a decay. Basically you start the learning rate at something like 0.001, or 0.01...etc, and then over time, that learning rate gets smaller and smaller. The idea being you can initially train fast, and slowly take smaller steps, hopefully getthing the best of both worlds:"
      ],
      "metadata": {
        "id": "9Gi7UHVVOKaz"
      }
    },
    {
      "cell_type": "markdown",
      "source": [
        "![image.png](data:image/png;base64,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)"
      ],
      "metadata": {
        "id": "KymOCGnhOKdU"
      }
    },
    {
      "cell_type": "markdown",
      "source": [
        "More on learning rates and decay later. For now, 0.001 will work just fine, and you just need to think of learning rate as what it sounds like: How quickly should we try to get this optimizer to optimize things.\n",
        "\n",
        "Now we can iterate over our data. In general, you will make more than just 1 pass through your entire training dataset.\n",
        "\n",
        "Each full pass through your dataset is referred to as an epoch. In general, you will probably have somewhere between 3 and 10 epochs, but there's no hard rule here.\n",
        "\n",
        "Too few epochs, and your model wont learn everything it could have.\n",
        "\n",
        "Too many epochs and your model will over fit to your in-sample data (basically memorize the in-sample data, and perform poorly on out of sample data).\n",
        "\n",
        "Let's go with 3 epochs for now. So we will loop over epochs, and each epoch will loop over our data. Something like:"
      ],
      "metadata": {
        "id": "kEHDkISNOKfq"
      }
    },
    {
      "cell_type": "code",
      "source": [
        "for epoch in range(3): # 3 full passes over the data\n",
        "    for data in trainset:  # `data` is a batch of data\n",
        "        X, y = data  # X is the batch of features, y is the batch of targets.\n",
        "        net.zero_grad()  # sets gradients to 0 before loss calc. You will do this likely every step.\n",
        "        output = net(X.view(-1,784))  # pass in the reshaped batch (recall they are 28x28 atm)\n",
        "        loss = F.nll_loss(output, y)  # calc and grab the loss value\n",
        "        loss.backward()  # apply this loss backwards thru the network's parameters\n",
        "        optimizer.step()  # attempt to optimize weights to account for loss/gradients\n",
        "    print(loss)  # print loss. We hope loss (a measure of wrong-ness) declines! "
      ],
      "metadata": {
        "colab": {
          "base_uri": "https://localhost:8080/"
        },
        "id": "BTT-WrjVN8Fd",
        "outputId": "0fda5cb9-acdc-4095-ecc6-7eb18db56bf9"
      },
      "execution_count": 3,
      "outputs": [
        {
          "output_type": "stream",
          "name": "stdout",
          "text": [
            "tensor(0.0271, grad_fn=<NllLossBackward0>)\n",
            "tensor(0.0016, grad_fn=<NllLossBackward0>)\n",
            "tensor(0.0016, grad_fn=<NllLossBackward0>)\n"
          ]
        }
      ]
    },
    {
      "cell_type": "markdown",
      "source": [
        "Every line here is commented, but the concept of gradients might not be clear. Once we pass data through our neural network, getting an output, we can compare that output to the desired output. With this, we can compute the gradients for each parameter, which our optimizer (Adam, SGD...etc) uses as information for updating weights.\n",
        "\n",
        "This is why it's important to do a net.zero_grad() for every step, otherwise these gradients will add up for every pass, and then we'll be re-optimizing for previous gradients that we already optimized for. There could be times when you intend to have the gradients sum per pass, like maybe you have a batch of 10, but you want to optimize per 50 or something. I don't think people really do that, but the idea of Pytorch is to let you do whatever you want.\n",
        "\n",
        "So, for each epoch, and for each batch in our dataset, what do we do?\n",
        "\n",
        "Grab the features (X) and labels (y) from current batch\n",
        "Zero the gradients (net.zero_grad)\n",
        "Pass the data through the network\n",
        "Calculate the loss\n",
        "Adjust weights in the network with the hopes of decreasing loss\n",
        "As we iterate, we get loss, which is an important metric, but we care about accuracy. So, how did we do? To test this, all we need to do is iterate over our test set, measuring for correctness by comparing output to target values."
      ],
      "metadata": {
        "id": "mrZ1LOFVOSzT"
      }
    },
    {
      "cell_type": "code",
      "source": [
        "correct = 0\n",
        "total = 0\n",
        "\n",
        "with torch.no_grad():\n",
        "    for data in testset:\n",
        "        X, y = data\n",
        "        output = net(X.view(-1,784))\n",
        "        #print(output)\n",
        "        for idx, i in enumerate(output):\n",
        "            #print(torch.argmax(i), y[idx])\n",
        "            if torch.argmax(i) == y[idx]:\n",
        "                correct += 1\n",
        "            total += 1\n",
        "\n",
        "print(\"Accuracy: \", round(correct/total, 3))"
      ],
      "metadata": {
        "colab": {
          "base_uri": "https://localhost:8080/"
        },
        "id": "lhfuKt0DOQ1Q",
        "outputId": "2f9154bf-cf14-4cbd-8e06-a9f4f5abb20f"
      },
      "execution_count": 4,
      "outputs": [
        {
          "output_type": "stream",
          "name": "stdout",
          "text": [
            "Accuracy:  0.971\n"
          ]
        }
      ]
    },
    {
      "cell_type": "code",
      "source": [
        "# Yeah, I would say we did alright there.\n",
        "\n",
        "import matplotlib.pyplot as plt\n",
        "\n",
        "plt.imshow(X[0].view(28,28))\n",
        "plt.show()"
      ],
      "metadata": {
        "colab": {
          "base_uri": "https://localhost:8080/",
          "height": 265
        },
        "id": "HG5JwrLoOVEV",
        "outputId": "85f430a3-2292-425f-a284-5eb993815f2b"
      },
      "execution_count": 5,
      "outputs": [
        {
          "output_type": "display_data",
          "data": {
            "image/png": "[encoded data removed]",
            "text/plain": [
              "<Figure size 432x288 with 1 Axes>"
            ]
          },
          "metadata": {
            "needs_background": "light"
          }
        }
      ]
    },
    {
      "cell_type": "code",
      "source": [
        "print(torch.argmax(net(X[0].view(-1,784))[0]))"
      ],
      "metadata": {
        "colab": {
          "base_uri": "https://localhost:8080/"
        },
        "id": "21OymydhOXlN",
        "outputId": "47d3fbef-c803-4195-c47e-66407f36ad62"
      },
      "execution_count": 6,
      "outputs": [
        {
          "output_type": "stream",
          "name": "stdout",
          "text": [
            "tensor(7)\n"
          ]
        }
      ]
    },
    {
      "cell_type": "code",
      "source": [
        "# The above might be slightly confusing. I'll break it down.\n",
        "\n",
        "a_featureset = X[0]\n",
        "reshaped_for_network = a_featureset.view(-1,784) # 784 b/c 28*28 image resolution.\n",
        "output = net(reshaped_for_network) #output will be a list of network predictions.\n",
        "first_pred = output[0]\n",
        "print(first_pred)"
      ],
      "metadata": {
        "colab": {
          "base_uri": "https://localhost:8080/"
        },
        "id": "3Pm2J6kBOZqS",
        "outputId": "fade7e75-1142-4174-87ce-c8c5ebca5fb3"
      },
      "execution_count": 7,
      "outputs": [
        {
          "output_type": "stream",
          "name": "stdout",
          "text": [
            "tensor([-2.7762e+01, -1.4540e+01, -1.0099e+01, -9.7367e+00, -2.0157e+01,\n",
            "        -2.3539e+01, -3.4431e+01, -1.0144e-04, -1.6070e+01, -1.4229e+01],\n",
            "       grad_fn=<SelectBackward0>)\n"
          ]
        }
      ]
    },
    {
      "cell_type": "code",
      "source": [
        "# Which index value is the greatest? We use argmax to find this:\n",
        "\n",
        "biggest_index = torch.argmax(first_pred)\n",
        "print(biggest_index)"
      ],
      "metadata": {
        "colab": {
          "base_uri": "https://localhost:8080/"
        },
        "id": "5dA9JyglOcyr",
        "outputId": "8a05afa7-59bd-44fc-b85e-1fde87adaf19"
      },
      "execution_count": 8,
      "outputs": [
        {
          "output_type": "stream",
          "name": "stdout",
          "text": [
            "tensor(7)\n"
          ]
        }
      ]
    },
    {
      "cell_type": "markdown",
      "source": [
        "There's so much more we could do here with this example, but I think it's best we move on.\n",
        "\n",
        "More things to consider: Tracking/graphing loss and accuracy over time, comparing in and out of sample accuracy, maybe hand-drawing our own example to see if it works...etc.\n",
        "\n",
        "As fun and easy as it is to use a pre-made dataset, one of the first things you really want to do once you learn deep learning is actually do something you're interested in, which often means your own dataset that isn't prepared for us like this one was."
      ],
      "metadata": {
        "id": "lykd0nCSOhdC"
      }
    }
  ]
}