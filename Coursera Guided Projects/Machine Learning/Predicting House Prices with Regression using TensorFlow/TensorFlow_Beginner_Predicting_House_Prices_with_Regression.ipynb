{
  "nbformat": 4,
  "nbformat_minor": 0,
  "metadata": {
    "kernelspec": {
      "display_name": "Python 3",
      "language": "python",
      "name": "python3"
    },
    "language_info": {
      "codemirror_mode": {
        "name": "ipython",
        "version": 3
      },
      "file_extension": ".py",
      "mimetype": "text/x-python",
      "name": "python",
      "nbconvert_exporter": "python",
      "pygments_lexer": "ipython3",
      "version": "3.7.3"
    },
    "colab": {
      "name": "TensorFlow Beginner - Predicting House Prices with Regression.ipynb",
      "provenance": [],
      "collapsed_sections": []
    }
  },
  "cells": [
    {
      "cell_type": "markdown",
      "metadata": {
        "id": "Q7nhgoFXSaRs",
        "colab_type": "text"
      },
      "source": [
        "**Difference Between Regression And Classification** - \n",
        "\n",
        "* In Regression problem, we train the model to predict a continuous value(given a set of input features).\n",
        "\n",
        "* In Classification problem, we train the model to predict discrete values or classes. "
      ]
    },
    {
      "cell_type": "markdown",
      "metadata": {
        "id": "dyYG5SnUNbCx",
        "colab_type": "text"
      },
      "source": [
        "# Task 1: Introduction\n",
        "\n",
        "---\n",
        "\n",
        "For this project, we are going to work on evaluating price of houses given the following features:\n",
        "\n",
        "1. Year of sale of the house\n",
        "2. The age of the house at the time of sale\n",
        "3. Distance from city center\n",
        "4. Number of stores in the locality\n",
        "5. The latitude\n",
        "6. The longitude\n",
        "\n",
        "![Regression](images/regression.png)\n",
        "\n",
        "Note: This notebook uses `python 3` and these packages: `tensorflow`, `pandas`, `matplotlib`, `scikit-learn`."
      ]
    },
    {
      "cell_type": "markdown",
      "metadata": {
        "id": "8Adon7FZNbCy",
        "colab_type": "text"
      },
      "source": [
        "## 1.1: Importing Libraries & Helper Functions\n",
        "\n",
        "First of all, we will need to import some libraries and helper functions. This includes TensorFlow and some utility functions that I've written to save time."
      ]
    },
    {
      "cell_type": "code",
      "metadata": {
        "id": "GWmqYLR8NbCz",
        "colab_type": "code",
        "outputId": "c791b815-9b0d-4640-fda1-fef4303e5991",
        "colab": {
          "base_uri": "https://localhost:8080/",
          "height": 34
        }
      },
      "source": [
        "import pandas as pd\n",
        "import matplotlib.pyplot as plt\n",
        "import tensorflow as tf\n",
        "\n",
        "from utils import *\n",
        "from sklearn.model_selection import train_test_split\n",
        "from tensorflow.keras.models import Sequential\n",
        "from tensorflow.keras.layers import Dense, Dropout\n",
        "from tensorflow.keras.callbacks import EarlyStopping, LambdaCallback\n",
        "\n",
        "%matplotlib inline\n",
        "# tf.compat.v1.logging.set_verbosity(tf.logging.ERROR)\n",
        "tf.compat.v1.logging.set_verbosity(tf.compat.v1.logging.ERROR)\n",
        "\n",
        "print('Libraries imported.')"
      ],
      "execution_count": 1,
      "outputs": [
        {
          "output_type": "stream",
          "text": [
            "Libraries imported.\n"
          ],
          "name": "stdout"
        }
      ]
    },
    {
      "cell_type": "markdown",
      "metadata": {
        "id": "guIeSJJZVnPL",
        "colab_type": "text"
      },
      "source": [
        "\n",
        "1. tf.logging  - It is for logging and summary operations.\n",
        "2. tf.logging -> tf.compat.v1.logging  -> Because in TF 2.0 it has been removed.\n",
        "\n"
      ]
    },
    {
      "cell_type": "markdown",
      "metadata": {
        "id": "od9irrJXNbC3",
        "colab_type": "text"
      },
      "source": [
        "# Task 2: Importing the Data"
      ]
    },
    {
      "cell_type": "markdown",
      "metadata": {
        "id": "Vo_6dXW2NbC5",
        "colab_type": "text"
      },
      "source": [
        "## 2.1: Importing the Data\n",
        "\n",
        "The dataset is saved in a `data.csv` file. We will use `pandas` to take a look at some of the rows."
      ]
    },
    {
      "cell_type": "code",
      "metadata": {
        "id": "tn9sOLuRXeE3",
        "colab_type": "code",
        "colab": {}
      },
      "source": [
        "column_names=['serial', 'date', 'age', 'distance', 'stores', 'latitude', 'longitude', 'price']"
      ],
      "execution_count": 0,
      "outputs": []
    },
    {
      "cell_type": "code",
      "metadata": {
        "id": "6wAtK5nINbC6",
        "colab_type": "code",
        "outputId": "a6c9d47b-e742-4481-f73e-1de8a06aff45",
        "colab": {
          "base_uri": "https://localhost:8080/",
          "height": 197
        }
      },
      "source": [
        "df = pd.read_csv('/content/data.csv', names = column_names)\n",
        "df.head()"
      ],
      "execution_count": 3,
      "outputs": [
        {
          "output_type": "execute_result",
          "data": {
            "text/html": [
              "<div>\n",
              "<style scoped>\n",
              "    .dataframe tbody tr th:only-of-type {\n",
              "        vertical-align: middle;\n",
              "    }\n",
              "\n",
              "    .dataframe tbody tr th {\n",
              "        vertical-align: top;\n",
              "    }\n",
              "\n",
              "    .dataframe thead th {\n",
              "        text-align: right;\n",
              "    }\n",
              "</style>\n",
              "<table border=\"1\" class=\"dataframe\">\n",
              "  <thead>\n",
              "    <tr style=\"text-align: right;\">\n",
              "      <th></th>\n",
              "      <th>serial</th>\n",
              "      <th>date</th>\n",
              "      <th>age</th>\n",
              "      <th>distance</th>\n",
              "      <th>stores</th>\n",
              "      <th>latitude</th>\n",
              "      <th>longitude</th>\n",
              "      <th>price</th>\n",
              "    </tr>\n",
              "  </thead>\n",
              "  <tbody>\n",
              "    <tr>\n",
              "      <th>0</th>\n",
              "      <td>0</td>\n",
              "      <td>2009</td>\n",
              "      <td>21</td>\n",
              "      <td>9</td>\n",
              "      <td>6</td>\n",
              "      <td>84</td>\n",
              "      <td>121</td>\n",
              "      <td>14264</td>\n",
              "    </tr>\n",
              "    <tr>\n",
              "      <th>1</th>\n",
              "      <td>1</td>\n",
              "      <td>2007</td>\n",
              "      <td>4</td>\n",
              "      <td>2</td>\n",
              "      <td>3</td>\n",
              "      <td>86</td>\n",
              "      <td>121</td>\n",
              "      <td>12032</td>\n",
              "    </tr>\n",
              "    <tr>\n",
              "      <th>2</th>\n",
              "      <td>2</td>\n",
              "      <td>2016</td>\n",
              "      <td>18</td>\n",
              "      <td>3</td>\n",
              "      <td>7</td>\n",
              "      <td>90</td>\n",
              "      <td>120</td>\n",
              "      <td>13560</td>\n",
              "    </tr>\n",
              "    <tr>\n",
              "      <th>3</th>\n",
              "      <td>3</td>\n",
              "      <td>2002</td>\n",
              "      <td>13</td>\n",
              "      <td>2</td>\n",
              "      <td>2</td>\n",
              "      <td>80</td>\n",
              "      <td>128</td>\n",
              "      <td>12029</td>\n",
              "    </tr>\n",
              "    <tr>\n",
              "      <th>4</th>\n",
              "      <td>4</td>\n",
              "      <td>2014</td>\n",
              "      <td>25</td>\n",
              "      <td>5</td>\n",
              "      <td>8</td>\n",
              "      <td>81</td>\n",
              "      <td>122</td>\n",
              "      <td>14157</td>\n",
              "    </tr>\n",
              "  </tbody>\n",
              "</table>\n",
              "</div>"
            ],
            "text/plain": [
              "   serial  date  age  distance  stores  latitude  longitude  price\n",
              "0       0  2009   21         9       6        84        121  14264\n",
              "1       1  2007    4         2       3        86        121  12032\n",
              "2       2  2016   18         3       7        90        120  13560\n",
              "3       3  2002   13         2       2        80        128  12029\n",
              "4       4  2014   25         5       8        81        122  14157"
            ]
          },
          "metadata": {
            "tags": []
          },
          "execution_count": 3
        }
      ]
    },
    {
      "cell_type": "markdown",
      "metadata": {
        "id": "ycQc9r_mNbC-",
        "colab_type": "text"
      },
      "source": [
        "## 2.2: Check Missing Data\n",
        "\n",
        "It's a good practice to check if the data has any missing values. In real world data, this is quite common and must be taken care of before any data pre-processing or model training."
      ]
    },
    {
      "cell_type": "code",
      "metadata": {
        "id": "K1yAYemdNbC-",
        "colab_type": "code",
        "outputId": "b8c84e01-d1d8-4891-d3a0-fb59485eff34",
        "colab": {
          "base_uri": "https://localhost:8080/",
          "height": 176
        }
      },
      "source": [
        "df.isna().sum()"
      ],
      "execution_count": 4,
      "outputs": [
        {
          "output_type": "execute_result",
          "data": {
            "text/plain": [
              "serial       0\n",
              "date         0\n",
              "age          0\n",
              "distance     0\n",
              "stores       0\n",
              "latitude     0\n",
              "longitude    0\n",
              "price        0\n",
              "dtype: int64"
            ]
          },
          "metadata": {
            "tags": []
          },
          "execution_count": 4
        }
      ]
    },
    {
      "cell_type": "markdown",
      "metadata": {
        "id": "U4VxEPYlt5oe",
        "colab_type": "text"
      },
      "source": [
        "**Note** - \n",
        "\n",
        "1. True - If value is misisng \n",
        "\n",
        "2. False - If value is not missing"
      ]
    },
    {
      "cell_type": "markdown",
      "metadata": {
        "id": "W2XGyBh3NbDC",
        "colab_type": "text"
      },
      "source": [
        "# Task 3: Data Normalization"
      ]
    },
    {
      "cell_type": "markdown",
      "metadata": {
        "id": "v_VazVvmNbDD",
        "colab_type": "text"
      },
      "source": [
        "## 3.1: Data Normalization\n",
        "\n",
        "We can make it easier for optimization algorithms to find minimas by normalizing the data before training a model."
      ]
    },
    {
      "cell_type": "markdown",
      "metadata": {
        "id": "uQRuFCYEuXBv",
        "colab_type": "text"
      },
      "source": [
        "**Note** - \n",
        "\n",
        "1. In Normalization, we will try to minimize the differenece between ground truth and the model's prediction.\n",
        "\n",
        "2. Normalization simply change the distribution of different features so that values of different features are in similar ranges.\n",
        "\n",
        "3. Normalization is also used when features are scalar. \n",
        "\n",
        "4. iloc means you are selecting data for your rows and columns.\n",
        "\n",
        "    df = df.iloc[:, 1:] -> df.iloc[rows, columns]\n",
        "\n",
        "    rows -> : -> take all rows\n",
        "\n",
        "    columns -> 1: -> take all columns except 1st column\n",
        "  "
      ]
    },
    {
      "cell_type": "markdown",
      "metadata": {
        "id": "e_WXjrbYTqig",
        "colab_type": "text"
      },
      "source": [
        "**Normalization** - \n",
        "\n"
      ]
    },
    {
      "cell_type": "code",
      "metadata": {
        "id": "pdefckNNNbDE",
        "colab_type": "code",
        "outputId": "64dc6964-11c8-4bcc-bbd6-61e788a3b6a9",
        "colab": {
          "base_uri": "https://localhost:8080/",
          "height": 197
        }
      },
      "source": [
        "df=df.iloc[:,1:]\n",
        "df_norm = (df-df.mean())/df.std()\n",
        "df_norm.head()"
      ],
      "execution_count": 5,
      "outputs": [
        {
          "output_type": "execute_result",
          "data": {
            "text/html": [
              "<div>\n",
              "<style scoped>\n",
              "    .dataframe tbody tr th:only-of-type {\n",
              "        vertical-align: middle;\n",
              "    }\n",
              "\n",
              "    .dataframe tbody tr th {\n",
              "        vertical-align: top;\n",
              "    }\n",
              "\n",
              "    .dataframe thead th {\n",
              "        text-align: right;\n",
              "    }\n",
              "</style>\n",
              "<table border=\"1\" class=\"dataframe\">\n",
              "  <thead>\n",
              "    <tr style=\"text-align: right;\">\n",
              "      <th></th>\n",
              "      <th>date</th>\n",
              "      <th>age</th>\n",
              "      <th>distance</th>\n",
              "      <th>stores</th>\n",
              "      <th>latitude</th>\n",
              "      <th>longitude</th>\n",
              "      <th>price</th>\n",
              "    </tr>\n",
              "  </thead>\n",
              "  <tbody>\n",
              "    <tr>\n",
              "      <th>0</th>\n",
              "      <td>0.015978</td>\n",
              "      <td>0.181384</td>\n",
              "      <td>1.257002</td>\n",
              "      <td>0.345224</td>\n",
              "      <td>-0.307212</td>\n",
              "      <td>-1.260799</td>\n",
              "      <td>0.350088</td>\n",
              "    </tr>\n",
              "    <tr>\n",
              "      <th>1</th>\n",
              "      <td>-0.350485</td>\n",
              "      <td>-1.319118</td>\n",
              "      <td>-0.930610</td>\n",
              "      <td>-0.609312</td>\n",
              "      <td>0.325301</td>\n",
              "      <td>-1.260799</td>\n",
              "      <td>-1.836486</td>\n",
              "    </tr>\n",
              "    <tr>\n",
              "      <th>2</th>\n",
              "      <td>1.298598</td>\n",
              "      <td>-0.083410</td>\n",
              "      <td>-0.618094</td>\n",
              "      <td>0.663402</td>\n",
              "      <td>1.590328</td>\n",
              "      <td>-1.576456</td>\n",
              "      <td>-0.339584</td>\n",
              "    </tr>\n",
              "    <tr>\n",
              "      <th>3</th>\n",
              "      <td>-1.266643</td>\n",
              "      <td>-0.524735</td>\n",
              "      <td>-0.930610</td>\n",
              "      <td>-0.927491</td>\n",
              "      <td>-1.572238</td>\n",
              "      <td>0.948803</td>\n",
              "      <td>-1.839425</td>\n",
              "    </tr>\n",
              "    <tr>\n",
              "      <th>4</th>\n",
              "      <td>0.932135</td>\n",
              "      <td>0.534444</td>\n",
              "      <td>0.006938</td>\n",
              "      <td>0.981581</td>\n",
              "      <td>-1.255981</td>\n",
              "      <td>-0.945141</td>\n",
              "      <td>0.245266</td>\n",
              "    </tr>\n",
              "  </tbody>\n",
              "</table>\n",
              "</div>"
            ],
            "text/plain": [
              "       date       age  distance    stores  latitude  longitude     price\n",
              "0  0.015978  0.181384  1.257002  0.345224 -0.307212  -1.260799  0.350088\n",
              "1 -0.350485 -1.319118 -0.930610 -0.609312  0.325301  -1.260799 -1.836486\n",
              "2  1.298598 -0.083410 -0.618094  0.663402  1.590328  -1.576456 -0.339584\n",
              "3 -1.266643 -0.524735 -0.930610 -0.927491 -1.572238   0.948803 -1.839425\n",
              "4  0.932135  0.534444  0.006938  0.981581 -1.255981  -0.945141  0.245266"
            ]
          },
          "metadata": {
            "tags": []
          },
          "execution_count": 5
        }
      ]
    },
    {
      "cell_type": "markdown",
      "metadata": {
        "id": "9E0FWyphNbDH",
        "colab_type": "text"
      },
      "source": [
        "## 3.2: Convert Label Value\n",
        "\n",
        "Because we are using normalized values for the labels, we will get the predictions back from a trained model in the same distribution. So, we need to convert the predicted values back to the original distribution if we want predicted prices."
      ]
    },
    {
      "cell_type": "code",
      "metadata": {
        "id": "7X2_7bbcNbDI",
        "colab_type": "code",
        "outputId": "94343b6a-0858-4fde-bcff-4345d7b12270",
        "colab": {
          "base_uri": "https://localhost:8080/",
          "height": 34
        }
      },
      "source": [
        "y_mean = df['price'].mean()\n",
        "y_std = df['price'].std()\n",
        "\n",
        "def convert_label_value(pred):\n",
        "  return int(pred*y_std+y_mean)\n",
        "\n",
        "print(\"Check value:\",convert_label_value(0.350088))"
      ],
      "execution_count": 6,
      "outputs": [
        {
          "output_type": "stream",
          "text": [
            "Check value: 14263\n"
          ],
          "name": "stdout"
        }
      ]
    },
    {
      "cell_type": "markdown",
      "metadata": {
        "id": "1TmzxuM7NbDN",
        "colab_type": "text"
      },
      "source": [
        "# Task 4: Create Training and Test Sets"
      ]
    },
    {
      "cell_type": "markdown",
      "metadata": {
        "id": "-p0_TauCNbDO",
        "colab_type": "text"
      },
      "source": [
        "## 4.1: Select Features\n",
        "\n",
        "Make sure to remove the column __price__ from the list of features as it is the label and should not be used as a feature."
      ]
    },
    {
      "cell_type": "code",
      "metadata": {
        "id": "TsFnATzfNbDO",
        "colab_type": "code",
        "outputId": "78cbf551-2318-4606-9615-4d332e01539d",
        "colab": {
          "base_uri": "https://localhost:8080/",
          "height": 197
        }
      },
      "source": [
        "x=df_norm.iloc[:, :-1]\n",
        "x.head()"
      ],
      "execution_count": 7,
      "outputs": [
        {
          "output_type": "execute_result",
          "data": {
            "text/html": [
              "<div>\n",
              "<style scoped>\n",
              "    .dataframe tbody tr th:only-of-type {\n",
              "        vertical-align: middle;\n",
              "    }\n",
              "\n",
              "    .dataframe tbody tr th {\n",
              "        vertical-align: top;\n",
              "    }\n",
              "\n",
              "    .dataframe thead th {\n",
              "        text-align: right;\n",
              "    }\n",
              "</style>\n",
              "<table border=\"1\" class=\"dataframe\">\n",
              "  <thead>\n",
              "    <tr style=\"text-align: right;\">\n",
              "      <th></th>\n",
              "      <th>date</th>\n",
              "      <th>age</th>\n",
              "      <th>distance</th>\n",
              "      <th>stores</th>\n",
              "      <th>latitude</th>\n",
              "      <th>longitude</th>\n",
              "    </tr>\n",
              "  </thead>\n",
              "  <tbody>\n",
              "    <tr>\n",
              "      <th>0</th>\n",
              "      <td>0.015978</td>\n",
              "      <td>0.181384</td>\n",
              "      <td>1.257002</td>\n",
              "      <td>0.345224</td>\n",
              "      <td>-0.307212</td>\n",
              "      <td>-1.260799</td>\n",
              "    </tr>\n",
              "    <tr>\n",
              "      <th>1</th>\n",
              "      <td>-0.350485</td>\n",
              "      <td>-1.319118</td>\n",
              "      <td>-0.930610</td>\n",
              "      <td>-0.609312</td>\n",
              "      <td>0.325301</td>\n",
              "      <td>-1.260799</td>\n",
              "    </tr>\n",
              "    <tr>\n",
              "      <th>2</th>\n",
              "      <td>1.298598</td>\n",
              "      <td>-0.083410</td>\n",
              "      <td>-0.618094</td>\n",
              "      <td>0.663402</td>\n",
              "      <td>1.590328</td>\n",
              "      <td>-1.576456</td>\n",
              "    </tr>\n",
              "    <tr>\n",
              "      <th>3</th>\n",
              "      <td>-1.266643</td>\n",
              "      <td>-0.524735</td>\n",
              "      <td>-0.930610</td>\n",
              "      <td>-0.927491</td>\n",
              "      <td>-1.572238</td>\n",
              "      <td>0.948803</td>\n",
              "    </tr>\n",
              "    <tr>\n",
              "      <th>4</th>\n",
              "      <td>0.932135</td>\n",
              "      <td>0.534444</td>\n",
              "      <td>0.006938</td>\n",
              "      <td>0.981581</td>\n",
              "      <td>-1.255981</td>\n",
              "      <td>-0.945141</td>\n",
              "    </tr>\n",
              "  </tbody>\n",
              "</table>\n",
              "</div>"
            ],
            "text/plain": [
              "       date       age  distance    stores  latitude  longitude\n",
              "0  0.015978  0.181384  1.257002  0.345224 -0.307212  -1.260799\n",
              "1 -0.350485 -1.319118 -0.930610 -0.609312  0.325301  -1.260799\n",
              "2  1.298598 -0.083410 -0.618094  0.663402  1.590328  -1.576456\n",
              "3 -1.266643 -0.524735 -0.930610 -0.927491 -1.572238   0.948803\n",
              "4  0.932135  0.534444  0.006938  0.981581 -1.255981  -0.945141"
            ]
          },
          "metadata": {
            "tags": []
          },
          "execution_count": 7
        }
      ]
    },
    {
      "cell_type": "markdown",
      "metadata": {
        "id": "MhgI7ygENbDS",
        "colab_type": "text"
      },
      "source": [
        "## 4.2: Select Labels"
      ]
    },
    {
      "cell_type": "code",
      "metadata": {
        "id": "ijypr9bhNbDT",
        "colab_type": "code",
        "outputId": "ad2aaf2e-761d-4239-ec22-20ad530743ee",
        "colab": {
          "base_uri": "https://localhost:8080/",
          "height": 123
        }
      },
      "source": [
        "y = df_norm.iloc[:, -1]\n",
        "y.head()"
      ],
      "execution_count": 8,
      "outputs": [
        {
          "output_type": "execute_result",
          "data": {
            "text/plain": [
              "0    0.350088\n",
              "1   -1.836486\n",
              "2   -0.339584\n",
              "3   -1.839425\n",
              "4    0.245266\n",
              "Name: price, dtype: float64"
            ]
          },
          "metadata": {
            "tags": []
          },
          "execution_count": 8
        }
      ]
    },
    {
      "cell_type": "markdown",
      "metadata": {
        "id": "17IRUml3NbDW",
        "colab_type": "text"
      },
      "source": [
        "## 4.3: Feature and Label Values\n",
        "\n",
        "We will need to extract just the numeric values for the features and labels as the TensorFlow model will expect just numeric values as input."
      ]
    },
    {
      "cell_type": "markdown",
      "metadata": {
        "id": "uauaaweaZtQs",
        "colab_type": "text"
      },
      "source": [
        "**Note** - \n",
        "\n",
        "1. numpy arrays are compatible. "
      ]
    },
    {
      "cell_type": "code",
      "metadata": {
        "id": "7ddN84pGNbDX",
        "colab_type": "code",
        "outputId": "371cee11-d5d6-4895-e346-6a25a2875141",
        "colab": {
          "base_uri": "https://localhost:8080/",
          "height": 52
        }
      },
      "source": [
        "x_arr = x.values\n",
        "y_arr = y.values\n",
        "\n",
        "print(\"features array shape:\", x_arr.shape)\n",
        "print(\"labels array shape:\", y_arr.shape)"
      ],
      "execution_count": 9,
      "outputs": [
        {
          "output_type": "stream",
          "text": [
            "features array shape: (5000, 6)\n",
            "labels array shape: (5000,)\n"
          ],
          "name": "stdout"
        }
      ]
    },
    {
      "cell_type": "markdown",
      "metadata": {
        "id": "2J0oVgCoNbDa",
        "colab_type": "text"
      },
      "source": [
        "## 4.4: Train and Test Split\n",
        "\n",
        "We will keep some part of the data aside as a __test__ set. The model will not use this set during training and it will be used only for checking the performance of the model in trained and un-trained states. This way, we can make sure that we are going in the right direction with our model training."
      ]
    },
    {
      "cell_type": "markdown",
      "metadata": {
        "id": "JGe54KwInR6j",
        "colab_type": "text"
      },
      "source": [
        "**Note** - \n",
        "\n",
        "1. We split the data into two sets so that one(test set) of them can be used for validation, evaluation or testing.\n",
        "\n",
        "2. Difference between validation and evaluation - \n",
        "\n",
        "* Validation is used to tune the hyper-parameters of the model and is done on the cross validation set. \n",
        "\n",
        "* Evaluation is used to test the final performance of the algorithm and is done on the test set."
      ]
    },
    {
      "cell_type": "code",
      "metadata": {
        "id": "AKLKO4fxNbDc",
        "colab_type": "code",
        "outputId": "0f251bff-2944-4597-8576-b80fe09e4f46",
        "colab": {
          "base_uri": "https://localhost:8080/",
          "height": 52
        }
      },
      "source": [
        "x_train, x_test, y_train, y_test = train_test_split(x_arr, y_arr,\n",
        "                                                    test_size = 0.2, random_state = 0)\n",
        "\n",
        "print(\"Training set:\", x_train.shape, y_train.shape)\n",
        "print(\"Test set:\", y_test.shape, y_test.shape)"
      ],
      "execution_count": 10,
      "outputs": [
        {
          "output_type": "stream",
          "text": [
            "Training set: (4000, 6) (4000,)\n",
            "Test set: (1000,) (1000,)\n"
          ],
          "name": "stdout"
        }
      ]
    },
    {
      "cell_type": "markdown",
      "metadata": {
        "id": "Iq9yyM6gNbDg",
        "colab_type": "text"
      },
      "source": [
        "# Task 5: Create the Model"
      ]
    },
    {
      "cell_type": "markdown",
      "metadata": {
        "id": "C7umjfvPNbDg",
        "colab_type": "text"
      },
      "source": [
        "## 5.1: Create the Model\n",
        "\n",
        "Let's write a function that returns an untrained model of a certain architecture."
      ]
    },
    {
      "cell_type": "markdown",
      "metadata": {
        "id": "-aWyCDUVdPvq",
        "colab_type": "text"
      },
      "source": [
        "**Note** - \n",
        "\n",
        "1. We are using simple neural architecture with just 3 hidden layer. We are going to use relu (Rectified Linear Unit) activation function on all the layers. "
      ]
    },
    {
      "cell_type": "code",
      "metadata": {
        "id": "9WVtL5NnNbDh",
        "colab_type": "code",
        "outputId": "2886c83c-8403-4c5d-ae73-455231fc0e05",
        "colab": {
          "base_uri": "https://localhost:8080/",
          "height": 301
        }
      },
      "source": [
        "def get_model():\n",
        "  # we have 3 hidden layer \n",
        "  # 10, 20, 5 -> nodes \n",
        "  # these are all fully connected layer. \n",
        "  model = Sequential([\n",
        "                      Dense(10, input_shape = (6,), activation = 'relu'),\n",
        "                      Dense(20, activation = 'relu'),\n",
        "                      Dense(5, activation = 'relu'),\n",
        "                      Dense(1)   # this is for output layer \n",
        "  ])\n",
        "  model.compile(\n",
        "      # mse -> mean square error\n",
        "      loss = 'mse',\n",
        "      optimizer = 'adam'\n",
        "  )\n",
        "  return model\n",
        "\n",
        "get_model().summary()"
      ],
      "execution_count": 11,
      "outputs": [
        {
          "output_type": "stream",
          "text": [
            "Model: \"sequential\"\n",
            "_________________________________________________________________\n",
            "Layer (type)                 Output Shape              Param #   \n",
            "=================================================================\n",
            "dense (Dense)                (None, 10)                70        \n",
            "_________________________________________________________________\n",
            "dense_1 (Dense)              (None, 20)                220       \n",
            "_________________________________________________________________\n",
            "dense_2 (Dense)              (None, 5)                 105       \n",
            "_________________________________________________________________\n",
            "dense_3 (Dense)              (None, 1)                 6         \n",
            "=================================================================\n",
            "Total params: 401\n",
            "Trainable params: 401\n",
            "Non-trainable params: 0\n",
            "_________________________________________________________________\n"
          ],
          "name": "stdout"
        }
      ]
    },
    {
      "cell_type": "markdown",
      "metadata": {
        "id": "aBmRYq9_fvHU",
        "colab_type": "text"
      },
      "source": [
        "**Note** - \n",
        "\n",
        "1. Param(dense_2) = [node(dense_2) * node(dense_1)] + [node (dense_2) * node(output_layer)]"
      ]
    },
    {
      "cell_type": "markdown",
      "metadata": {
        "id": "ddKnNxAzNbDk",
        "colab_type": "text"
      },
      "source": [
        "# Task 6: Model Training"
      ]
    },
    {
      "cell_type": "markdown",
      "metadata": {
        "id": "im1iOTT3NbDl",
        "colab_type": "text"
      },
      "source": [
        "## 6.1: Model Training\n",
        "\n",
        "We can use an `EarlyStopping` callback from Keras to stop the model training if the validation loss stops decreasing for a few epochs."
      ]
    },
    {
      "cell_type": "markdown",
      "metadata": {
        "id": "tsnVOHp7LGaU",
        "colab_type": "text"
      },
      "source": [
        "**Note** - \n",
        "\n",
        "* Validation loss is calculated on test set, not on training set. \n",
        "\n",
        "* Model will simply stop training where it doesn't see any improvement in the validation loss. \n",
        "\n",
        "* es = EasyStopping(monitor = 'val_loss', patience = 5) -> \n",
        "\n",
        "    EarlyStopping -> callback function\n",
        "\n",
        "    patience = 5 -> If upto 5 epochs there will be very less chanegs in validation_loss then it will stop training the model.\n",
        "\n",
        "    es -> If val_loss doesn't decrease for 5 epochs then it will stop the training. \n",
        "\n",
        "* history(It is an object) will return validation loss across different epochs."
      ]
    },
    {
      "cell_type": "markdown",
      "metadata": {
        "id": "ki8Dqr9hszOD",
        "colab_type": "text"
      },
      "source": [
        "**Training Loss And Validation Loss** - \n",
        "\n",
        "1. Training Loss - Training loss is the error on the training set of data.\n",
        "\n",
        "2. Validation Loss - \n",
        "\n",
        "3. There are 3 cases - \n",
        "\n",
        "    * Underfitting - loss > validation_loss\n",
        "\n",
        "    * Overfitting - loss << validation_loss. This means that your model is fitting very nicely the training data but not at all the validation data, in other words it's not generalizing correctly to unseen data\n",
        "\n",
        "    * Perfect Fitting - loss == validation_loss. f both values end up to be roughly the same and also if the values are converging (plot the loss over time) then chances are very high that you are doing it right."
      ]
    },
    {
      "cell_type": "code",
      "metadata": {
        "id": "5eNYOxcGNbDl",
        "colab_type": "code",
        "outputId": "ef8e945e-8f61-41d4-a2f1-517d3db65f0b",
        "colab": {
          "base_uri": "https://localhost:8080/",
          "height": 905
        }
      },
      "source": [
        "es=EarlyStopping(monitor = 'val_loss', patience = 5)\n",
        "\n",
        "# creating model\n",
        "model=get_model()\n",
        "# predictions on untrained model. Untrained model will mostly give you random predictions.\n",
        "predictions_on_untrain_model = model.predict(x_test)\n",
        "\n",
        "history = model.fit( \n",
        "    x_train, y_train,\n",
        "    validation_data = (x_test, y_test),\n",
        "    epochs = 100,\n",
        "    callbacks = [es]\n",
        ")"
      ],
      "execution_count": 12,
      "outputs": [
        {
          "output_type": "stream",
          "text": [
            "Epoch 1/100\n",
            "125/125 [==============================] - 0s 3ms/step - loss: 0.6218 - val_loss: 0.2594\n",
            "Epoch 2/100\n",
            "125/125 [==============================] - 0s 2ms/step - loss: 0.2166 - val_loss: 0.1872\n",
            "Epoch 3/100\n",
            "125/125 [==============================] - 0s 2ms/step - loss: 0.1786 - val_loss: 0.1696\n",
            "Epoch 4/100\n",
            "125/125 [==============================] - 0s 2ms/step - loss: 0.1686 - val_loss: 0.1648\n",
            "Epoch 5/100\n",
            "125/125 [==============================] - 0s 2ms/step - loss: 0.1641 - val_loss: 0.1623\n",
            "Epoch 6/100\n",
            "125/125 [==============================] - 0s 2ms/step - loss: 0.1613 - val_loss: 0.1636\n",
            "Epoch 7/100\n",
            "125/125 [==============================] - 0s 2ms/step - loss: 0.1600 - val_loss: 0.1599\n",
            "Epoch 8/100\n",
            "125/125 [==============================] - 0s 2ms/step - loss: 0.1574 - val_loss: 0.1594\n",
            "Epoch 9/100\n",
            "125/125 [==============================] - 0s 2ms/step - loss: 0.1566 - val_loss: 0.1561\n",
            "Epoch 10/100\n",
            "125/125 [==============================] - 0s 2ms/step - loss: 0.1553 - val_loss: 0.1587\n",
            "Epoch 11/100\n",
            "125/125 [==============================] - 0s 2ms/step - loss: 0.1552 - val_loss: 0.1605\n",
            "Epoch 12/100\n",
            "125/125 [==============================] - 0s 2ms/step - loss: 0.1536 - val_loss: 0.1572\n",
            "Epoch 13/100\n",
            "125/125 [==============================] - 0s 2ms/step - loss: 0.1531 - val_loss: 0.1679\n",
            "Epoch 14/100\n",
            "125/125 [==============================] - 0s 2ms/step - loss: 0.1543 - val_loss: 0.1547\n",
            "Epoch 15/100\n",
            "125/125 [==============================] - 0s 2ms/step - loss: 0.1529 - val_loss: 0.1583\n",
            "Epoch 16/100\n",
            "125/125 [==============================] - 0s 2ms/step - loss: 0.1524 - val_loss: 0.1549\n",
            "Epoch 17/100\n",
            "125/125 [==============================] - 0s 2ms/step - loss: 0.1516 - val_loss: 0.1534\n",
            "Epoch 18/100\n",
            "125/125 [==============================] - 0s 2ms/step - loss: 0.1516 - val_loss: 0.1538\n",
            "Epoch 19/100\n",
            "125/125 [==============================] - 0s 2ms/step - loss: 0.1515 - val_loss: 0.1542\n",
            "Epoch 20/100\n",
            "125/125 [==============================] - 0s 2ms/step - loss: 0.1506 - val_loss: 0.1534\n",
            "Epoch 21/100\n",
            "125/125 [==============================] - 0s 2ms/step - loss: 0.1515 - val_loss: 0.1551\n",
            "Epoch 22/100\n",
            "125/125 [==============================] - 0s 2ms/step - loss: 0.1512 - val_loss: 0.1540\n",
            "Epoch 23/100\n",
            "125/125 [==============================] - 0s 2ms/step - loss: 0.1498 - val_loss: 0.1617\n",
            "Epoch 24/100\n",
            "125/125 [==============================] - 0s 2ms/step - loss: 0.1494 - val_loss: 0.1559\n",
            "Epoch 25/100\n",
            "125/125 [==============================] - 0s 2ms/step - loss: 0.1508 - val_loss: 0.1542\n"
          ],
          "name": "stdout"
        }
      ]
    },
    {
      "cell_type": "markdown",
      "metadata": {
        "id": "R97mN6YRNbDo",
        "colab_type": "text"
      },
      "source": [
        "## 6.2: Plot Training and Validation Loss\n",
        "\n",
        "Let's use the `plot_loss` helper function to take a look training and validation loss."
      ]
    },
    {
      "cell_type": "code",
      "metadata": {
        "id": "G2Lt4K9jNbDp",
        "colab_type": "code",
        "colab": {
          "base_uri": "https://localhost:8080/",
          "height": 496
        },
        "outputId": "aa68d131-c95f-452c-b0f8-b0dd8c9ff9f7"
      },
      "source": [
        "plot_loss(history)"
      ],
      "execution_count": 13,
      "outputs": [
        {
          "output_type": "display_data",
          "data": {
            "image/png": "[encoded data removed]",
            "text/plain": [
              "<Figure size 576x576 with 1 Axes>"
            ]
          },
          "metadata": {
            "tags": [],
            "needs_background": "light"
          }
        }
      ]
    },
    {
      "cell_type": "markdown",
      "metadata": {
        "id": "2mEjZBa2Y2cK",
        "colab_type": "text"
      },
      "source": [
        "**Note** - \n",
        "\n",
        "1. Training Loss \n",
        "\n",
        "2. Validation Loss"
      ]
    },
    {
      "cell_type": "markdown",
      "metadata": {
        "id": "jA7snwuCZN9O",
        "colab_type": "text"
      },
      "source": [
        "**Observation** - \n",
        "\n",
        "1. Training loss and Validation loss value decreased as the training went on."
      ]
    },
    {
      "cell_type": "markdown",
      "metadata": {
        "id": "eEBQV1z6NbDs",
        "colab_type": "text"
      },
      "source": [
        "# Task 7: Predictions"
      ]
    },
    {
      "cell_type": "markdown",
      "metadata": {
        "id": "S2_hSK6dNbDt",
        "colab_type": "text"
      },
      "source": [
        "## 7.1: Plot Raw Predictions\n",
        "\n",
        "Let's use the `compare_predictions` helper function to compare predictions from the model when it was untrained and when it was trained."
      ]
    },
    {
      "cell_type": "code",
      "metadata": {
        "id": "UWeSszpbNbDu",
        "colab_type": "code",
        "colab": {
          "base_uri": "https://localhost:8080/",
          "height": 496
        },
        "outputId": "cf93b391-f5e0-4669-ba9e-510f1a9e3239"
      },
      "source": [
        "predictions_on_train_model = model.predict(x_test)\n",
        "compare_predictions(predictions_on_untrain_model, predictions_on_train_model, y_test)"
      ],
      "execution_count": 14,
      "outputs": [
        {
          "output_type": "display_data",
          "data": {
            "image/png": "[encoded data removed]",
            "text/plain": [
              "<Figure size 576x576 with 1 Axes>"
            ]
          },
          "metadata": {
            "tags": [],
            "needs_background": "light"
          }
        }
      ]
    },
    {
      "cell_type": "markdown",
      "metadata": {
        "id": "j1IFgo-SNbDx",
        "colab_type": "text"
      },
      "source": [
        "## 7.2: Plot Price Predictions\n",
        "\n",
        "The plot for price predictions and raw predictions will look the same with just one difference: The x and y axis scale is changed."
      ]
    },
    {
      "cell_type": "code",
      "metadata": {
        "id": "bW7Uis--NbDx",
        "colab_type": "code",
        "colab": {
          "base_uri": "https://localhost:8080/",
          "height": 496
        },
        "outputId": "f999c5a9-a531-4a08-ed86-bd748b280bfb"
      },
      "source": [
        "price_untrained = [convert_label_value(y) for y in predictions_on_untrain_model]\n",
        "price_trained = [convert_label_value(y) for y in predictions_on_train_model]\n",
        "price_test = [convert_label_value(y) for y in y_test]\n",
        "\n",
        "compare_predictions(price_untrained, price_trained, price_test)"
      ],
      "execution_count": 18,
      "outputs": [
        {
          "output_type": "display_data",
          "data": {
            "image/png": "[encoded data removed]",
            "text/plain": [
              "<Figure size 576x576 with 1 Axes>"
            ]
          },
          "metadata": {
            "tags": [],
            "needs_background": "light"
          }
        }
      ]
    }
  ]
}